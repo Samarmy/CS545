{
 "cells": [
  {
   "cell_type": "markdown",
   "metadata": {},
   "source": [
    "<h1>Sam Armstrong Assignment 3 CS545</h1>"
   ]
  },
  {
   "cell_type": "code",
   "execution_count": 2,
   "metadata": {},
   "outputs": [],
   "source": [
    "import numpy as np\n",
    "import matplotlib.pyplot as plt\n",
    "import copy\n",
    "import sys\n",
    "import pandas\n",
    "\n",
    "import torch\n",
    "import mlutilities as ml  # for ml.draw\n",
    "import optimizers as opt  # for opt.sgd, opt.adam, and opt.scg\n",
    "\n",
    "import neuralnetworks as nn\n",
    "# import optimizers as opt  # from Lecture Notes"
   ]
  },
  {
   "cell_type": "code",
   "execution_count": 3,
   "metadata": {},
   "outputs": [],
   "source": [
    "class NeuralNetworkClassifier(nn.NeuralNetwork):\n",
    "\n",
    "    # Constructor\n",
    "    def __init__(self, n_inputs, n_hiddens_list, classes, use_torch=False, use_gpu=False):\n",
    "\n",
    "        # Force n_hidens_list to be a list\n",
    "        if(torch.cuda.is_available() and use_gpu):\n",
    "            torch.set_default_tensor_type('torch.cuda.FloatTensor')\n",
    "        else:\n",
    "            torch.set_default_tensor_type('torch.FloatTensor')\n",
    "            \n",
    "        if not isinstance(n_hiddens_list, list):\n",
    "            raise Exception('NeuralNetworkClassifier: n_hiddens_list must be a list.')\n",
    " \n",
    "        # Call the constructor for NeuralNetwork, passing in the number of unique class names (ints)\n",
    "        # as the number of outputs\n",
    "        super().__init__(n_inputs, n_hiddens_list, len(classes), use_torch)\n",
    "\n",
    "        # Store as member variables other things needed by instances of this class.\n",
    "        \n",
    "        self.classes = np.array(classes) # to allow argmax in use()\n",
    "        \n",
    "        if use_torch:\n",
    "            self.log = torch.log\n",
    "            self.exp = torch.exp\n",
    "            self.sum = torch.sum\n",
    "            self.unique = torch.unique\n",
    "            self.mean = torch.mean\n",
    "            self.tanh = torch.tanh\n",
    "        else:\n",
    "            self.log = np.log\n",
    "            self.exp = np.exp\n",
    "            self.sum = np.sum\n",
    "            self.unique = np.unique\n",
    "            self.mean = np.mean\n",
    "            self.tanh = np.tanh\n",
    "    \n",
    "\n",
    "    def makeIndicatorVars(self, T):\n",
    "        # Make sure T is two-dimensiona. Should be nSamples x 1.\n",
    "        if T.ndim == 1:\n",
    "            T = T.reshape((-1,1))\n",
    "        return (T == np.unique(T)).astype(int)\n",
    "    \n",
    "    def __repr__(self):\n",
    "        str = f'{type(self).__name__}({self.n_inputs}, {self.n_hiddens_list}, {self.classes}, use_torch={self.use_torch})'\n",
    "        if self.trained:\n",
    "            str += f'\\n   Network was trained for {self.n_epochs} epochs'\n",
    "            str += f' that took {self.training_time:.4f} seconds. Final objective value is {self.error_trace[-1]:.3f}'\n",
    "        else:\n",
    "            str += '  Network is not trained.'\n",
    "        return str\n",
    "    \n",
    "    def _setup_standardize(self, X, T):\n",
    "        if self.Xmeans is None:\n",
    "            self.Xmeans = X.mean(axis=0)\n",
    "            self.Xstds = X.std(axis=0)\n",
    "            self.Xconstant = self.Xstds == 0\n",
    "            self.XstdsFixed = copy.copy(self.Xstds)\n",
    "            self.XstdsFixed[self.Xconstant] = 1\n",
    "            \n",
    "    def _standardizeX(self, X):\n",
    "        if self.use_torch:\n",
    "            if not isinstance(X, torch.Tensor):\n",
    "                X = torch.tensor(X, dtype=torch.float)\n",
    "            if not isinstance(self.Xmeans, torch.Tensor):\n",
    "                self.Xmeans = torch.tensor(self.Xmeans, dtype=torch.float) \n",
    "            if not isinstance(self.XstdsFixed, torch.Tensor):\n",
    "                self.XstdsFixed = torch.tensor(self.XstdsFixed, dtype=torch.float) \n",
    "        result = (X - self.Xmeans) / self.XstdsFixed\n",
    "        result[:, self.Xconstant] = 0.0\n",
    "        return result\n",
    "\n",
    "    def _unstandardizeX(self, Xs):\n",
    "        return self.Xstds * Xs + self.Xmeans\n",
    "    \n",
    "    def _standardizeT(self, T):\n",
    "        return T\n",
    "\n",
    "    def _unstandardizeT(self, Ts):\n",
    "        return Ts\n",
    "\n",
    "    def _forward_pass(self, X):\n",
    "        # Assume weights already unpacked\n",
    "        if self.use_torch:\n",
    "            if not isinstance(X, torch.Tensor):\n",
    "                X = torch.tensor(X, dtype=torch.float) \n",
    "        Z_prev = X  # output of previous layer\n",
    "        Z = [Z_prev]\n",
    "        for i in range(self.n_hidden_layers):\n",
    "            V = self.Vs[i]\n",
    "            Z_prev = self.tanh(Z_prev @ V[1:, :] + V[0:1, :])\n",
    "            Z.append(Z_prev)\n",
    "        Y = self.exp(Z_prev @ self.W[1:, :] + self.W[0:1, :])\n",
    "        np.seterr(divide='ignore', invalid='ignore')\n",
    "        softMax = Y/self.sum(Y, axis=1).reshape(-1, 1)\n",
    "        return softMax, Z\n",
    "\n",
    "    def _objectiveF(self, w, X, T):\n",
    "        self._unpack(w)\n",
    "        if self.use_torch:\n",
    "            if not isinstance(T, torch.Tensor):\n",
    "                T = torch.tensor(T, dtype=torch.float) \n",
    "        Y, _ = self._forward_pass(X)\n",
    "        return -self.mean(T * self.log(Y))\n",
    "\n",
    "    def _objective_to_actual(self, neg_mean_log_likelihood):\n",
    "        return self.exp(- neg_mean_log_likelihood)\n",
    "    \n",
    "    def train(self, X, T, n_epochs, method='scg',\n",
    "              verbose=False, save_weights_history=False,\n",
    "              learning_rate=0.001, momentum_rate=0.0): # only for sgd and adam\n",
    "\n",
    "        if isinstance(X, torch.Tensor):\n",
    "            X = X.detach().numpy()\n",
    "        if isinstance(T, torch.Tensor):\n",
    "            T = T.detach().numpy()\n",
    "        if X.shape[1] != self.n_inputs:\n",
    "            raise Exception(f'train: number of columns in X ({X.shape[1]}) not equal to number of network inputs ({self.n_inputs})')\n",
    "       \n",
    "        T = self.makeIndicatorVars(T)\n",
    "        if self.use_torch:\n",
    "            X = torch.tensor(X, dtype=torch.float)  # 32 bit\n",
    "            T = torch.tensor(T, dtype=torch.float)\n",
    "\n",
    "        self._setup_standardize(X, T)\n",
    "        X = self._standardizeX(X)\n",
    "        T = self._standardizeT(T)\n",
    "        \n",
    "        try:\n",
    "            algo = [opt.sgd, opt.adam, opt.scg][['sgd', 'adam', 'scg'].index(method)]\n",
    "        except:\n",
    "            raise Exception(\"train: method={method} not one of 'scg', 'sgd' or 'adam'\")            \n",
    "\n",
    "        result = algo(self._pack(self.Vs, self.W),\n",
    "                      self._objectiveF,\n",
    "                      [X, T], n_epochs,\n",
    "                      self._gradientF,  # not used if scg\n",
    "                      eval_f=self._objective_to_actual,\n",
    "                      learning_rate=learning_rate, momentum_rate=momentum_rate,\n",
    "                      verbose=verbose, use_torch=self.use_torch,\n",
    "                      save_wtrace=save_weights_history)\n",
    "\n",
    "        self._unpack(result['w'])\n",
    "        self.reason = result['reason']\n",
    "        self.error_trace = result['ftrace'] # * self.Tstds # to _unstandardize the MSEs\n",
    "        self.n_epochs = len(self.error_trace) - 1\n",
    "        self.trained = True\n",
    "        self.weight_history = result['wtrace'] if save_weights_history else None\n",
    "        self.training_time = result['time']\n",
    "        return self\n",
    "\n",
    "    def use(self, X, all_outputs=False):\n",
    "        if self.use_torch:\n",
    "            if not isinstance(X, torch.Tensor):\n",
    "                X = torch.tensor(X, dtype=torch.float)\n",
    "        X = self._standardizeX(X)\n",
    "        Y, Z = self._forward_pass(X)\n",
    "        Y = self._unstandardizeT(Y)\n",
    "        if self.use_torch:\n",
    "            Y = Y.detach().cpu().numpy()\n",
    "            Z = [Zi.detach().cpu().numpy() for Zi in Z]\n",
    "        Y_classes = self.classes[np.where((Y == Y.max(axis=1)[:,None]).astype(int) == 1)[1].reshape(-1, 1)]\n",
    "        return (Y_classes, Y, Z[1:]) if all_outputs else (Y_classes, Y)"
   ]
  },
  {
   "cell_type": "code",
   "execution_count": 4,
   "metadata": {},
   "outputs": [
    {
     "data": {
      "text/plain": [
       "((10, 2), (10, 2))"
      ]
     },
     "execution_count": 4,
     "metadata": {},
     "output_type": "execute_result"
    }
   ],
   "source": [
    "np.random.seed(42)\n",
    "X = np.arange(20).reshape((10, 2)) * 0.1\n",
    "T = np.hstack((X[:, 0:1]**2, np.sin(X[:, 1:2])))\n",
    "X.shape, T.shape"
   ]
  },
  {
   "cell_type": "code",
   "execution_count": 5,
   "metadata": {},
   "outputs": [
    {
     "data": {
      "text/plain": [
       "array([[0. , 0.1],\n",
       "       [0.2, 0.3],\n",
       "       [0.4, 0.5],\n",
       "       [0.6, 0.7],\n",
       "       [0.8, 0.9],\n",
       "       [1. , 1.1],\n",
       "       [1.2, 1.3],\n",
       "       [1.4, 1.5],\n",
       "       [1.6, 1.7],\n",
       "       [1.8, 1.9]])"
      ]
     },
     "execution_count": 5,
     "metadata": {},
     "output_type": "execute_result"
    }
   ],
   "source": [
    "X"
   ]
  },
  {
   "cell_type": "code",
   "execution_count": 6,
   "metadata": {},
   "outputs": [
    {
     "data": {
      "text/plain": [
       "array([[0.        , 0.09983342],\n",
       "       [0.04      , 0.29552021],\n",
       "       [0.16      , 0.47942554],\n",
       "       [0.36      , 0.64421769],\n",
       "       [0.64      , 0.78332691],\n",
       "       [1.        , 0.89120736],\n",
       "       [1.44      , 0.96355819],\n",
       "       [1.96      , 0.99749499],\n",
       "       [2.56      , 0.99166481],\n",
       "       [3.24      , 0.94630009]])"
      ]
     },
     "execution_count": 6,
     "metadata": {},
     "output_type": "execute_result"
    }
   ],
   "source": [
    "T"
   ]
  },
  {
   "cell_type": "code",
   "execution_count": 7,
   "metadata": {},
   "outputs": [
    {
     "data": {
      "image/png": "[encoded data removed]",
      "text/plain": [
       "<Figure size 432x288 with 1 Axes>"
      ]
     },
     "metadata": {
      "needs_background": "light"
     },
     "output_type": "display_data"
    }
   ],
   "source": [
    "plt.plot(T)\n",
    "plt.xlabel('Sample Index')\n",
    "plt.legend(['Square', 'Sine']);"
   ]
  },
  {
   "cell_type": "code",
   "execution_count": 8,
   "metadata": {},
   "outputs": [
    {
     "data": {
      "text/plain": [
       "NeuralNetwork(2, [10, 10], 2, use_torch=False)  Network is not trained."
      ]
     },
     "execution_count": 8,
     "metadata": {},
     "output_type": "execute_result"
    }
   ],
   "source": [
    "nnet = nn.NeuralNetwork(2, [10, 10], 2)\n",
    "nnet"
   ]
  },
  {
   "cell_type": "code",
   "execution_count": 9,
   "metadata": {},
   "outputs": [
    {
     "data": {
      "text/plain": [
       "NeuralNetwork(2, [10, 10], 2, use_torch=False)\n",
       "   Network was trained for 50 epochs that took 0.0259 seconds. Final objective value is 0.074"
      ]
     },
     "execution_count": 9,
     "metadata": {},
     "output_type": "execute_result"
    }
   ],
   "source": [
    "nnet.train(X, T, 50, method='scg')\n",
    "nnet"
   ]
  },
  {
   "cell_type": "code",
   "execution_count": 10,
   "metadata": {},
   "outputs": [
    {
     "name": "stdout",
     "output_type": "stream",
     "text": [
      "[0.74073085 0.4984492  0.35925009 0.24158265 0.23289625 0.22811977\n",
      " 0.22337226 0.21922631 0.214916   0.21069511 0.20630379 0.20195649\n",
      " 0.19745231 0.19297383 0.18836311 0.18377552 0.17908898 0.17443355\n",
      " 0.16971839 0.16504905 0.1603623  0.15574006 0.15114304 0.14663113\n",
      " 0.14218485 0.13784436 0.13360544 0.12949131 0.12550829 0.12166561\n",
      " 0.11797588 0.11443709 0.11106465 0.10784783 0.10480237 0.10191108\n",
      " 0.09918858 0.09661318 0.0941978  0.09191805 0.0897852  0.0877736\n",
      " 0.08589326 0.08411848 0.08245854 0.0808885  0.07941738 0.07802156\n",
      " 0.07671011 0.075461   0.07428353]\n"
     ]
    },
    {
     "data": {
      "image/png": "[encoded data removed]",
      "text/plain": [
       "<Figure size 432x288 with 1 Axes>"
      ]
     },
     "metadata": {
      "needs_background": "light"
     },
     "output_type": "display_data"
    }
   ],
   "source": [
    "plt.plot(nnet.get_error_trace())\n",
    "plt.xlabel('Epoch')\n",
    "plt.ylabel('RMSE');\n",
    "print(nnet.get_error_trace())"
   ]
  },
  {
   "cell_type": "code",
   "execution_count": 11,
   "metadata": {},
   "outputs": [
    {
     "data": {
      "text/plain": [
       "NeuralNetwork(2, [10, 10], 2, use_torch=False)\n",
       "   Network was trained for 50 epochs that took 0.0259 seconds. Final objective value is 0.074"
      ]
     },
     "execution_count": 11,
     "metadata": {},
     "output_type": "execute_result"
    }
   ],
   "source": [
    "nnet"
   ]
  },
  {
   "cell_type": "code",
   "execution_count": 12,
   "metadata": {},
   "outputs": [
    {
     "data": {
      "image/png": "[encoded data removed]",
      "text/plain": [
       "<Figure size 432x288 with 1 Axes>"
      ]
     },
     "metadata": {
      "needs_background": "light"
     },
     "output_type": "display_data"
    }
   ],
   "source": [
    "Y = nnet.use(X)\n",
    "plt.plot(T)\n",
    "plt.plot(Y, '--')\n",
    "plt.legend(['$T_0$', '$T_1$', '$Y_0$', '$Y_1']);"
   ]
  },
  {
   "cell_type": "code",
   "execution_count": 13,
   "metadata": {},
   "outputs": [
    {
     "name": "stdout",
     "output_type": "stream",
     "text": [
      "NeuralNetwork(2, [10, 10], 2, use_torch=False)\n",
      "   Network was trained for 50 epochs that took 0.0119 seconds. Final objective value is 0.212\n"
     ]
    },
    {
     "data": {
      "image/png": "[encoded data removed]",
      "text/plain": [
       "<Figure size 432x288 with 1 Axes>"
      ]
     },
     "metadata": {
      "needs_background": "light"
     },
     "output_type": "display_data"
    }
   ],
   "source": [
    "np.random.seed(42)  # only to help you compare your output to mine.  Do not use otherwise.\n",
    "\n",
    "nnet = nn.NeuralNetwork(2, [10, 10], 2)\n",
    "nnet.train(X, T, 50, method='sgd', learning_rate=0.1, momentum_rate=0.5)\n",
    "print(nnet)\n",
    "plt.plot(nnet.get_error_trace())\n",
    "plt.xlabel('Epoch')\n",
    "plt.ylabel('RMSE');"
   ]
  },
  {
   "cell_type": "code",
   "execution_count": 14,
   "metadata": {},
   "outputs": [
    {
     "data": {
      "image/png": "[encoded data removed]",
      "text/plain": [
       "<Figure size 432x288 with 1 Axes>"
      ]
     },
     "metadata": {
      "needs_background": "light"
     },
     "output_type": "display_data"
    }
   ],
   "source": [
    "Y = nnet.use(X)\n",
    "plt.plot(T)\n",
    "plt.plot(Y, '--')\n",
    "plt.legend(['$T_0$', '$T_1$', '$Y_0$', '$Y_1']);"
   ]
  },
  {
   "cell_type": "code",
   "execution_count": 15,
   "metadata": {},
   "outputs": [
    {
     "name": "stdout",
     "output_type": "stream",
     "text": [
      "NeuralNetwork(2, [10, 10], 2, use_torch=False)\n",
      "   Network was trained for 50 epochs that took 0.0139 seconds. Final objective value is 0.037\n"
     ]
    },
    {
     "data": {
      "image/png": "[encoded data removed]",
      "text/plain": [
       "<Figure size 432x288 with 1 Axes>"
      ]
     },
     "metadata": {
      "needs_background": "light"
     },
     "output_type": "display_data"
    }
   ],
   "source": [
    "np.random.seed(42)  # only to help you compare your output to mine.  Do not use otherwise.\n",
    "\n",
    "nnet = nn.NeuralNetwork(2, [10, 10], 2)\n",
    "nnet.train(X, T, 50, method='adam', learning_rate=0.1)\n",
    "print(nnet)\n",
    "plt.plot(nnet.get_error_trace())\n",
    "plt.xlabel('Epoch')\n",
    "plt.ylabel('RMSE');"
   ]
  },
  {
   "cell_type": "code",
   "execution_count": 16,
   "metadata": {},
   "outputs": [
    {
     "data": {
      "image/png": "[encoded data removed]",
      "text/plain": [
       "<Figure size 432x288 with 1 Axes>"
      ]
     },
     "metadata": {
      "needs_background": "light"
     },
     "output_type": "display_data"
    }
   ],
   "source": [
    "Y = nnet.use(X)\n",
    "plt.plot(T)\n",
    "plt.plot(Y, '--')\n",
    "plt.legend(['$T_0$', '$T_1$', '$Y_0$', '$Y_1']);"
   ]
  },
  {
   "cell_type": "code",
   "execution_count": 17,
   "metadata": {},
   "outputs": [
    {
     "name": "stdout",
     "output_type": "stream",
     "text": [
      "NeuralNetwork(2, [10, 10], 2, use_torch=True)\n",
      "   Network was trained for 50 epochs that took 0.1495 seconds. Final objective value is 0.036\n"
     ]
    },
    {
     "data": {
      "image/png": "[encoded data removed]",
      "text/plain": [
       "<Figure size 432x288 with 1 Axes>"
      ]
     },
     "metadata": {
      "needs_background": "light"
     },
     "output_type": "display_data"
    }
   ],
   "source": [
    "np.random.seed(42)  # only to help you compare your output to mine.  Do not use otherwise.\n",
    "\n",
    "nnet = nn.NeuralNetwork(2, [10, 10], 2, use_torch=True)\n",
    "nnet.train(X, T, 50, method='adam', learning_rate=0.1)\n",
    "print(nnet)\n",
    "plt.plot(nnet.get_error_trace())\n",
    "plt.xlabel('Epoch')\n",
    "plt.ylabel('RMSE');"
   ]
  },
  {
   "cell_type": "code",
   "execution_count": 18,
   "metadata": {},
   "outputs": [
    {
     "data": {
      "image/png": "[encoded data removed]",
      "text/plain": [
       "<Figure size 432x288 with 1 Axes>"
      ]
     },
     "metadata": {
      "needs_background": "light"
     },
     "output_type": "display_data"
    }
   ],
   "source": [
    "Y = nnet.use(X)\n",
    "plt.plot(T)\n",
    "plt.plot(Y, '--')\n",
    "plt.legend(['$T_0$', '$T_1$', '$Y_0$', '$Y_1']);"
   ]
  },
  {
   "cell_type": "code",
   "execution_count": 19,
   "metadata": {},
   "outputs": [
    {
     "name": "stdout",
     "output_type": "stream",
     "text": [
      "x = [2 0], t = [0]\n",
      "x = [2 2], t = [1]\n",
      "x = [0 0], t = [1]\n",
      "x = [2 1], t = [0]\n",
      "x = [2 2], t = [1]\n",
      "x = [2 2], t = [1]\n",
      "x = [0 2], t = [0]\n",
      "x = [1 0], t = [0]\n",
      "x = [1 1], t = [1]\n",
      "x = [1 1], t = [1]\n",
      "x = [0 0], t = [1]\n",
      "x = [1 1], t = [1]\n",
      "x = [0 0], t = [1]\n",
      "x = [0 2], t = [0]\n",
      "x = [2 2], t = [1]\n",
      "x = [1 2], t = [0]\n",
      "x = [1 1], t = [1]\n",
      "x = [2 1], t = [0]\n",
      "x = [2 2], t = [1]\n",
      "x = [0 2], t = [0]\n"
     ]
    }
   ],
   "source": [
    "np.random.seed(42)  # only to help you compare your output to mine.  Do not use otherwise.\n",
    "\n",
    "n_samples = 20\n",
    "X = np.random.choice(3, (n_samples, 2))\n",
    "T = (X[:, 0:1] == X[:, 1:2]).astype(int)  # where the two inputs are equal\n",
    "classes = [0, 1]\n",
    "\n",
    "for x, t in zip(X, T):\n",
    "    print(f'x = {x}, t = {t}')"
   ]
  },
  {
   "cell_type": "code",
   "execution_count": 20,
   "metadata": {},
   "outputs": [
    {
     "name": "stdout",
     "output_type": "stream",
     "text": [
      "8 not equal, 12 equal\n"
     ]
    }
   ],
   "source": [
    "print(f'{np.sum(T==0)} not equal, {np.sum(T==1)} equal')"
   ]
  },
  {
   "cell_type": "code",
   "execution_count": 21,
   "metadata": {},
   "outputs": [
    {
     "data": {
      "text/plain": [
       "NeuralNetworkClassifier(2, [10, 10], [0 1], use_torch=False)  Network is not trained."
      ]
     },
     "execution_count": 21,
     "metadata": {},
     "output_type": "execute_result"
    }
   ],
   "source": [
    "np.random.seed(42)  # only to help you compare your output to mine.  Do not use otherwise.\n",
    "\n",
    "nnet_new = NeuralNetworkClassifier(2, [10, 10], [0, 1])\n",
    "nnet_new"
   ]
  },
  {
   "cell_type": "code",
   "execution_count": 22,
   "metadata": {},
   "outputs": [
    {
     "data": {
      "text/plain": [
       "array([[0],\n",
       "       [1],\n",
       "       [1],\n",
       "       [0],\n",
       "       [1],\n",
       "       [1],\n",
       "       [0],\n",
       "       [0],\n",
       "       [1],\n",
       "       [1],\n",
       "       [1],\n",
       "       [1],\n",
       "       [1],\n",
       "       [0],\n",
       "       [1],\n",
       "       [0],\n",
       "       [1],\n",
       "       [0],\n",
       "       [1],\n",
       "       [0]])"
      ]
     },
     "execution_count": 22,
     "metadata": {},
     "output_type": "execute_result"
    }
   ],
   "source": [
    "nnet_new._standardizeT(T)"
   ]
  },
  {
   "cell_type": "code",
   "execution_count": 23,
   "metadata": {},
   "outputs": [
    {
     "data": {
      "text/plain": [
       "array([[0],\n",
       "       [1],\n",
       "       [1],\n",
       "       [0],\n",
       "       [1],\n",
       "       [1],\n",
       "       [0],\n",
       "       [0],\n",
       "       [1],\n",
       "       [1],\n",
       "       [1],\n",
       "       [1],\n",
       "       [1],\n",
       "       [0],\n",
       "       [1],\n",
       "       [0],\n",
       "       [1],\n",
       "       [0],\n",
       "       [1],\n",
       "       [0]])"
      ]
     },
     "execution_count": 23,
     "metadata": {},
     "output_type": "execute_result"
    }
   ],
   "source": [
    "nnet_new._unstandardizeT(T)"
   ]
  },
  {
   "cell_type": "code",
   "execution_count": 24,
   "metadata": {},
   "outputs": [
    {
     "data": {
      "text/plain": [
       "array([[ 1.08347268, -1.47709789],\n",
       "       [ 1.08347268,  0.98473193],\n",
       "       [-1.32424438, -1.47709789],\n",
       "       [ 1.08347268, -0.24618298],\n",
       "       [ 1.08347268,  0.98473193],\n",
       "       [ 1.08347268,  0.98473193],\n",
       "       [-1.32424438,  0.98473193],\n",
       "       [-0.12038585, -1.47709789],\n",
       "       [-0.12038585, -0.24618298],\n",
       "       [-0.12038585, -0.24618298],\n",
       "       [-1.32424438, -1.47709789],\n",
       "       [-0.12038585, -0.24618298],\n",
       "       [-1.32424438, -1.47709789],\n",
       "       [-1.32424438,  0.98473193],\n",
       "       [ 1.08347268,  0.98473193],\n",
       "       [-0.12038585,  0.98473193],\n",
       "       [-0.12038585, -0.24618298],\n",
       "       [ 1.08347268, -0.24618298],\n",
       "       [ 1.08347268,  0.98473193],\n",
       "       [-1.32424438,  0.98473193]])"
      ]
     },
     "execution_count": 24,
     "metadata": {},
     "output_type": "execute_result"
    }
   ],
   "source": [
    "nnet_new._setup_standardize(X, T)\n",
    "Xst = nnet_new._standardizeX(X)\n",
    "Xst"
   ]
  },
  {
   "cell_type": "code",
   "execution_count": 25,
   "metadata": {},
   "outputs": [
    {
     "data": {
      "text/plain": [
       "array([[0.55163905, 0.44836095],\n",
       "       [0.52855705, 0.47144295],\n",
       "       [0.59590952, 0.40409048],\n",
       "       [0.5358871 , 0.4641129 ],\n",
       "       [0.52855705, 0.47144295],\n",
       "       [0.52855705, 0.47144295],\n",
       "       [0.59746461, 0.40253539],\n",
       "       [0.57163885, 0.42836115],\n",
       "       [0.56395347, 0.43604653],\n",
       "       [0.56395347, 0.43604653],\n",
       "       [0.59590952, 0.40409048],\n",
       "       [0.56395347, 0.43604653],\n",
       "       [0.59590952, 0.40409048],\n",
       "       [0.59746461, 0.40253539],\n",
       "       [0.52855705, 0.47144295],\n",
       "       [0.56007003, 0.43992997],\n",
       "       [0.56395347, 0.43604653],\n",
       "       [0.5358871 , 0.4641129 ],\n",
       "       [0.52855705, 0.47144295],\n",
       "       [0.59746461, 0.40253539]])"
      ]
     },
     "execution_count": 25,
     "metadata": {},
     "output_type": "execute_result"
    }
   ],
   "source": [
    "Y, Z = nnet_new._forward_pass(Xst)\n",
    "Y"
   ]
  },
  {
   "cell_type": "code",
   "execution_count": 26,
   "metadata": {},
   "outputs": [
    {
     "data": {
      "text/plain": [
       "0.3525328777771416"
      ]
     },
     "execution_count": 26,
     "metadata": {},
     "output_type": "execute_result"
    }
   ],
   "source": [
    "w = nnet_new._pack(nnet_new.Vs, nnet_new.W)\n",
    "\n",
    "T_indicator_vars = np.hstack((1 - T, T))  # this only works for this particular two-class toy data\n",
    "\n",
    "nnet_new._objectiveF(w, X, T_indicator_vars)"
   ]
  },
  {
   "cell_type": "code",
   "execution_count": 27,
   "metadata": {},
   "outputs": [
    {
     "data": {
      "text/plain": [
       "NeuralNetworkClassifier(2, [10, 10], [0 1], use_torch=False)\n",
       "   Network was trained for 66 epochs that took 0.0367 seconds. Final objective value is 1.000"
      ]
     },
     "execution_count": 27,
     "metadata": {},
     "output_type": "execute_result"
    }
   ],
   "source": [
    "nnet_new.train(X, T, 100)"
   ]
  },
  {
   "cell_type": "code",
   "execution_count": 28,
   "metadata": {},
   "outputs": [
    {
     "data": {
      "text/plain": [
       "((20, 1), (20, 2))"
      ]
     },
     "execution_count": 28,
     "metadata": {},
     "output_type": "execute_result"
    }
   ],
   "source": [
    "Y_classes, Y = nnet_new.use(X)\n",
    "Y_classes.shape, Y.shape"
   ]
  },
  {
   "cell_type": "code",
   "execution_count": 29,
   "metadata": {},
   "outputs": [
    {
     "data": {
      "image/png": "[encoded data removed]",
      "text/plain": [
       "<Figure size 1080x360 with 2 Axes>"
      ]
     },
     "metadata": {
      "needs_background": "light"
     },
     "output_type": "display_data"
    }
   ],
   "source": [
    "plt.figure(figsize=(15, 5))\n",
    "plt.subplot(1, 2, 1)\n",
    "plt.plot(nnet_new.get_error_trace())\n",
    "plt.xlabel('epoch')\n",
    "plt.ylabel('Likelihood')\n",
    "\n",
    "plt.subplot(1, 2, 2)\n",
    "plt.plot(T, 'o-')\n",
    "plt.plot(Y_classes + 0.05, 'o-')\n",
    "plt.xlabel('Sample Index')\n",
    "plt.ylabel('Class')\n",
    "plt.legend(['Target Class', 'Predicted Class']);"
   ]
  },
  {
   "cell_type": "markdown",
   "metadata": {},
   "source": [
    "<h2>Real Data Set</h2>"
   ]
  },
  {
   "cell_type": "code",
   "execution_count": 30,
   "metadata": {},
   "outputs": [],
   "source": [
    "# !wget https://archive.ics.uci.edu/ml/machine-learning-databases/00312/dow_jones_index.zip\n",
    "# !unzip dow_jones_index.zip"
   ]
  },
  {
   "cell_type": "code",
   "execution_count": 31,
   "metadata": {},
   "outputs": [
    {
     "name": "stderr",
     "output_type": "stream",
     "text": [
      "/usr/local/anaconda-2019.07/lib/python3.7/site-packages/ipykernel_launcher.py:3: FutureWarning: Method .as_matrix will be removed in a future version. Use .values instead.\n",
      "  This is separate from the ipykernel package so we can avoid doing imports until\n"
     ]
    },
    {
     "data": {
      "text/html": [
       "<div>\n",
       "<style scoped>\n",
       "    .dataframe tbody tr th:only-of-type {\n",
       "        vertical-align: middle;\n",
       "    }\n",
       "\n",
       "    .dataframe tbody tr th {\n",
       "        vertical-align: top;\n",
       "    }\n",
       "\n",
       "    .dataframe thead th {\n",
       "        text-align: right;\n",
       "    }\n",
       "</style>\n",
       "<table border=\"1\" class=\"dataframe\">\n",
       "  <thead>\n",
       "    <tr style=\"text-align: right;\">\n",
       "      <th></th>\n",
       "      <th>quarter</th>\n",
       "      <th>stock</th>\n",
       "      <th>open</th>\n",
       "      <th>high</th>\n",
       "      <th>low</th>\n",
       "      <th>close</th>\n",
       "      <th>volume</th>\n",
       "      <th>percent_change_price</th>\n",
       "      <th>percent_change_volume_over_last_wk</th>\n",
       "      <th>previous_weeks_volume</th>\n",
       "      <th>next_weeks_open</th>\n",
       "      <th>next_weeks_close</th>\n",
       "      <th>percent_change_next_weeks_price</th>\n",
       "      <th>days_to_next_dividend</th>\n",
       "      <th>percent_return_next_dividend</th>\n",
       "    </tr>\n",
       "  </thead>\n",
       "  <tbody>\n",
       "    <tr>\n",
       "      <td>0</td>\n",
       "      <td>1</td>\n",
       "      <td>AA</td>\n",
       "      <td>15.82</td>\n",
       "      <td>16.72</td>\n",
       "      <td>15.78</td>\n",
       "      <td>16.42</td>\n",
       "      <td>239655616</td>\n",
       "      <td>3.79267</td>\n",
       "      <td>0.000000</td>\n",
       "      <td>0.0</td>\n",
       "      <td>16.71</td>\n",
       "      <td>15.97</td>\n",
       "      <td>-4.428490</td>\n",
       "      <td>26</td>\n",
       "      <td>0.182704</td>\n",
       "    </tr>\n",
       "    <tr>\n",
       "      <td>1</td>\n",
       "      <td>1</td>\n",
       "      <td>AA</td>\n",
       "      <td>16.71</td>\n",
       "      <td>16.71</td>\n",
       "      <td>15.64</td>\n",
       "      <td>15.97</td>\n",
       "      <td>242963398</td>\n",
       "      <td>-4.42849</td>\n",
       "      <td>1.380223</td>\n",
       "      <td>239655616.0</td>\n",
       "      <td>16.19</td>\n",
       "      <td>15.79</td>\n",
       "      <td>-2.470660</td>\n",
       "      <td>19</td>\n",
       "      <td>0.187852</td>\n",
       "    </tr>\n",
       "    <tr>\n",
       "      <td>2</td>\n",
       "      <td>1</td>\n",
       "      <td>AA</td>\n",
       "      <td>16.19</td>\n",
       "      <td>16.38</td>\n",
       "      <td>15.60</td>\n",
       "      <td>15.79</td>\n",
       "      <td>138428495</td>\n",
       "      <td>-2.47066</td>\n",
       "      <td>-43.024959</td>\n",
       "      <td>242963398.0</td>\n",
       "      <td>15.87</td>\n",
       "      <td>16.13</td>\n",
       "      <td>1.638310</td>\n",
       "      <td>12</td>\n",
       "      <td>0.189994</td>\n",
       "    </tr>\n",
       "    <tr>\n",
       "      <td>3</td>\n",
       "      <td>1</td>\n",
       "      <td>AA</td>\n",
       "      <td>15.87</td>\n",
       "      <td>16.63</td>\n",
       "      <td>15.82</td>\n",
       "      <td>16.13</td>\n",
       "      <td>151379173</td>\n",
       "      <td>1.63831</td>\n",
       "      <td>9.355500</td>\n",
       "      <td>138428495.0</td>\n",
       "      <td>16.18</td>\n",
       "      <td>17.14</td>\n",
       "      <td>5.933250</td>\n",
       "      <td>5</td>\n",
       "      <td>0.185989</td>\n",
       "    </tr>\n",
       "    <tr>\n",
       "      <td>4</td>\n",
       "      <td>1</td>\n",
       "      <td>AA</td>\n",
       "      <td>16.18</td>\n",
       "      <td>17.39</td>\n",
       "      <td>16.18</td>\n",
       "      <td>17.14</td>\n",
       "      <td>154387761</td>\n",
       "      <td>5.93325</td>\n",
       "      <td>1.987452</td>\n",
       "      <td>151379173.0</td>\n",
       "      <td>17.33</td>\n",
       "      <td>17.37</td>\n",
       "      <td>0.230814</td>\n",
       "      <td>97</td>\n",
       "      <td>0.175029</td>\n",
       "    </tr>\n",
       "    <tr>\n",
       "      <td>...</td>\n",
       "      <td>...</td>\n",
       "      <td>...</td>\n",
       "      <td>...</td>\n",
       "      <td>...</td>\n",
       "      <td>...</td>\n",
       "      <td>...</td>\n",
       "      <td>...</td>\n",
       "      <td>...</td>\n",
       "      <td>...</td>\n",
       "      <td>...</td>\n",
       "      <td>...</td>\n",
       "      <td>...</td>\n",
       "      <td>...</td>\n",
       "      <td>...</td>\n",
       "      <td>...</td>\n",
       "    </tr>\n",
       "    <tr>\n",
       "      <td>745</td>\n",
       "      <td>2</td>\n",
       "      <td>XOM</td>\n",
       "      <td>80.22</td>\n",
       "      <td>82.63</td>\n",
       "      <td>80.07</td>\n",
       "      <td>82.63</td>\n",
       "      <td>68230855</td>\n",
       "      <td>3.00424</td>\n",
       "      <td>-21.355713</td>\n",
       "      <td>86758820.0</td>\n",
       "      <td>83.28</td>\n",
       "      <td>81.18</td>\n",
       "      <td>-2.521610</td>\n",
       "      <td>75</td>\n",
       "      <td>0.568801</td>\n",
       "    </tr>\n",
       "    <tr>\n",
       "      <td>746</td>\n",
       "      <td>2</td>\n",
       "      <td>XOM</td>\n",
       "      <td>83.28</td>\n",
       "      <td>83.75</td>\n",
       "      <td>80.18</td>\n",
       "      <td>81.18</td>\n",
       "      <td>78616295</td>\n",
       "      <td>-2.52161</td>\n",
       "      <td>15.221032</td>\n",
       "      <td>68230855.0</td>\n",
       "      <td>80.93</td>\n",
       "      <td>79.78</td>\n",
       "      <td>-1.420980</td>\n",
       "      <td>68</td>\n",
       "      <td>0.578960</td>\n",
       "    </tr>\n",
       "    <tr>\n",
       "      <td>747</td>\n",
       "      <td>2</td>\n",
       "      <td>XOM</td>\n",
       "      <td>80.93</td>\n",
       "      <td>81.87</td>\n",
       "      <td>79.72</td>\n",
       "      <td>79.78</td>\n",
       "      <td>92380844</td>\n",
       "      <td>-1.42098</td>\n",
       "      <td>17.508519</td>\n",
       "      <td>78616295.0</td>\n",
       "      <td>80.00</td>\n",
       "      <td>79.02</td>\n",
       "      <td>-1.225000</td>\n",
       "      <td>61</td>\n",
       "      <td>0.589120</td>\n",
       "    </tr>\n",
       "    <tr>\n",
       "      <td>748</td>\n",
       "      <td>2</td>\n",
       "      <td>XOM</td>\n",
       "      <td>80.00</td>\n",
       "      <td>80.82</td>\n",
       "      <td>78.33</td>\n",
       "      <td>79.02</td>\n",
       "      <td>100521400</td>\n",
       "      <td>-1.22500</td>\n",
       "      <td>8.811952</td>\n",
       "      <td>92380844.0</td>\n",
       "      <td>78.65</td>\n",
       "      <td>76.78</td>\n",
       "      <td>-2.377620</td>\n",
       "      <td>54</td>\n",
       "      <td>0.594786</td>\n",
       "    </tr>\n",
       "    <tr>\n",
       "      <td>749</td>\n",
       "      <td>2</td>\n",
       "      <td>XOM</td>\n",
       "      <td>78.65</td>\n",
       "      <td>81.12</td>\n",
       "      <td>76.78</td>\n",
       "      <td>76.78</td>\n",
       "      <td>118679791</td>\n",
       "      <td>-2.37762</td>\n",
       "      <td>18.064204</td>\n",
       "      <td>100521400.0</td>\n",
       "      <td>76.88</td>\n",
       "      <td>82.01</td>\n",
       "      <td>6.672740</td>\n",
       "      <td>47</td>\n",
       "      <td>0.612139</td>\n",
       "    </tr>\n",
       "  </tbody>\n",
       "</table>\n",
       "<p>750 rows × 15 columns</p>\n",
       "</div>"
      ],
      "text/plain": [
       "     quarter stock   open   high    low  close     volume  \\\n",
       "0          1    AA  15.82  16.72  15.78  16.42  239655616   \n",
       "1          1    AA  16.71  16.71  15.64  15.97  242963398   \n",
       "2          1    AA  16.19  16.38  15.60  15.79  138428495   \n",
       "3          1    AA  15.87  16.63  15.82  16.13  151379173   \n",
       "4          1    AA  16.18  17.39  16.18  17.14  154387761   \n",
       "..       ...   ...    ...    ...    ...    ...        ...   \n",
       "745        2   XOM  80.22  82.63  80.07  82.63   68230855   \n",
       "746        2   XOM  83.28  83.75  80.18  81.18   78616295   \n",
       "747        2   XOM  80.93  81.87  79.72  79.78   92380844   \n",
       "748        2   XOM  80.00  80.82  78.33  79.02  100521400   \n",
       "749        2   XOM  78.65  81.12  76.78  76.78  118679791   \n",
       "\n",
       "     percent_change_price  percent_change_volume_over_last_wk  \\\n",
       "0                 3.79267                            0.000000   \n",
       "1                -4.42849                            1.380223   \n",
       "2                -2.47066                          -43.024959   \n",
       "3                 1.63831                            9.355500   \n",
       "4                 5.93325                            1.987452   \n",
       "..                    ...                                 ...   \n",
       "745               3.00424                          -21.355713   \n",
       "746              -2.52161                           15.221032   \n",
       "747              -1.42098                           17.508519   \n",
       "748              -1.22500                            8.811952   \n",
       "749              -2.37762                           18.064204   \n",
       "\n",
       "     previous_weeks_volume  next_weeks_open  next_weeks_close  \\\n",
       "0                      0.0            16.71             15.97   \n",
       "1              239655616.0            16.19             15.79   \n",
       "2              242963398.0            15.87             16.13   \n",
       "3              138428495.0            16.18             17.14   \n",
       "4              151379173.0            17.33             17.37   \n",
       "..                     ...              ...               ...   \n",
       "745             86758820.0            83.28             81.18   \n",
       "746             68230855.0            80.93             79.78   \n",
       "747             78616295.0            80.00             79.02   \n",
       "748             92380844.0            78.65             76.78   \n",
       "749            100521400.0            76.88             82.01   \n",
       "\n",
       "     percent_change_next_weeks_price  days_to_next_dividend  \\\n",
       "0                          -4.428490                     26   \n",
       "1                          -2.470660                     19   \n",
       "2                           1.638310                     12   \n",
       "3                           5.933250                      5   \n",
       "4                           0.230814                     97   \n",
       "..                               ...                    ...   \n",
       "745                        -2.521610                     75   \n",
       "746                        -1.420980                     68   \n",
       "747                        -1.225000                     61   \n",
       "748                        -2.377620                     54   \n",
       "749                         6.672740                     47   \n",
       "\n",
       "     percent_return_next_dividend  \n",
       "0                        0.182704  \n",
       "1                        0.187852  \n",
       "2                        0.189994  \n",
       "3                        0.185989  \n",
       "4                        0.175029  \n",
       "..                            ...  \n",
       "745                      0.568801  \n",
       "746                      0.578960  \n",
       "747                      0.589120  \n",
       "748                      0.594786  \n",
       "749                      0.612139  \n",
       "\n",
       "[750 rows x 15 columns]"
      ]
     },
     "execution_count": 31,
     "metadata": {},
     "output_type": "execute_result"
    }
   ],
   "source": [
    "data = pandas.read_csv('dow_jones_index.data').fillna(0.0).drop(['date'], axis=1)\n",
    "data[['open','high','low','close','next_weeks_open','next_weeks_close']] = data[['open','high','low','close','next_weeks_open','next_weeks_close']].replace('[\\$,]', '', regex=True).astype(float)\n",
    "classes = np.unique(data.as_matrix(columns=['stock']))\n",
    "data_X = data[['quarter','open','high','low','close','volume','percent_change_price','percent_change_volume_over_last_wk','previous_weeks_volume','next_weeks_open','next_weeks_close','percent_change_next_weeks_price','days_to_next_dividend','percent_return_next_dividend']]\n",
    "X = np.array(data_X)\n",
    "stock = data['stock']\n",
    "T = np.array(stock).reshape(-1, 1)\n",
    "data"
   ]
  },
  {
   "cell_type": "markdown",
   "metadata": {},
   "source": [
    "<h2>Different Sized Networks</h2>"
   ]
  },
  {
   "cell_type": "markdown",
   "metadata": {},
   "source": [
    "<h3>Network 1 [30, 30]</h3>"
   ]
  },
  {
   "cell_type": "code",
   "execution_count": 32,
   "metadata": {},
   "outputs": [
    {
     "data": {
      "text/plain": [
       "NeuralNetworkClassifier(14, [30, 30], ['AA' 'AXP' 'BA' 'BAC' 'CAT' 'CSCO' 'CVX' 'DD' 'DIS' 'GE' 'HD' 'HPQ' 'IBM'\n",
       " 'INTC' 'JNJ' 'JPM' 'KO' 'KRFT' 'MCD' 'MMM' 'MRK' 'MSFT' 'PFE' 'PG' 'T'\n",
       " 'TRV' 'UTX' 'VZ' 'WMT' 'XOM'], use_torch=False)  Network is not trained."
      ]
     },
     "execution_count": 32,
     "metadata": {},
     "output_type": "execute_result"
    }
   ],
   "source": [
    "dj_nnet1_scg = NeuralNetworkClassifier(14, [30, 30], classes)\n",
    "dj_nnet1_adam = NeuralNetworkClassifier(14, [30, 30], classes)\n",
    "dj_nnet1_sgd = NeuralNetworkClassifier(14, [30, 30], classes)\n",
    "dj_nnet1_scg"
   ]
  },
  {
   "cell_type": "code",
   "execution_count": 33,
   "metadata": {},
   "outputs": [
    {
     "name": "stdout",
     "output_type": "stream",
     "text": [
      "SCG: Iteration 140 ObjectiveF=0.99720 Scale=1.000e-15 Seconds=0.422\n",
      "SCG: Iteration 280 ObjectiveF=0.99833 Scale=1.000e-15 Seconds=0.486\n",
      "SCG: Iteration 420 ObjectiveF=0.99888 Scale=1.000e-15 Seconds=0.428\n",
      "SCG: Iteration 560 ObjectiveF=0.99920 Scale=1.000e-15 Seconds=0.386\n",
      "SCG: Iteration 700 ObjectiveF=0.99943 Scale=1.000e-15 Seconds=0.410\n",
      "SCG: Iteration 840 ObjectiveF=0.99961 Scale=1.000e-15 Seconds=0.406\n",
      "SCG: Iteration 980 ObjectiveF=0.99970 Scale=1.000e-15 Seconds=0.429\n",
      "SCG: Iteration 1120 ObjectiveF=0.99977 Scale=1.000e-15 Seconds=0.388\n",
      "SCG: Iteration 1260 ObjectiveF=0.99985 Scale=1.000e-15 Seconds=0.416\n",
      "SCG: Iteration 1400 ObjectiveF=0.99988 Scale=1.000e-15 Seconds=0.395\n",
      "adam: Iteration 80 ObjectiveF=0.99981 Seconds=0.113\n",
      "adam: Iteration 160 ObjectiveF=0.99996 Seconds=0.117\n",
      "adam: Iteration 240 ObjectiveF=0.99998 Seconds=0.111\n",
      "adam: Iteration 320 ObjectiveF=0.99999 Seconds=0.114\n",
      "adam: Iteration 400 ObjectiveF=0.99999 Seconds=0.112\n",
      "adam: Iteration 480 ObjectiveF=0.99999 Seconds=0.117\n",
      "adam: Iteration 560 ObjectiveF=0.99999 Seconds=0.111\n",
      "adam: Iteration 640 ObjectiveF=1.00000 Seconds=0.114\n",
      "adam: Iteration 720 ObjectiveF=1.00000 Seconds=0.114\n",
      "adam: Iteration 800 ObjectiveF=1.00000 Seconds=0.117\n",
      "sgd: Iteration 300 ObjectiveF=0.93689 Seconds=0.404\n",
      "sgd: Iteration 600 ObjectiveF=0.96111 Seconds=0.404\n",
      "sgd: Iteration 900 ObjectiveF=0.97396 Seconds=0.403\n",
      "sgd: Iteration 1200 ObjectiveF=0.98180 Seconds=0.405\n",
      "sgd: Iteration 1500 ObjectiveF=0.98680 Seconds=0.410\n",
      "sgd: Iteration 1800 ObjectiveF=0.98997 Seconds=0.409\n",
      "sgd: Iteration 2100 ObjectiveF=0.99203 Seconds=0.407\n",
      "sgd: Iteration 2400 ObjectiveF=0.99345 Seconds=0.410\n",
      "sgd: Iteration 2700 ObjectiveF=0.99449 Seconds=0.405\n",
      "sgd: Iteration 3000 ObjectiveF=0.99527 Seconds=0.426\n"
     ]
    },
    {
     "data": {
      "text/plain": [
       "NeuralNetworkClassifier(14, [30, 30], ['AA' 'AXP' 'BA' 'BAC' 'CAT' 'CSCO' 'CVX' 'DD' 'DIS' 'GE' 'HD' 'HPQ' 'IBM'\n",
       " 'INTC' 'JNJ' 'JPM' 'KO' 'KRFT' 'MCD' 'MMM' 'MRK' 'MSFT' 'PFE' 'PG' 'T'\n",
       " 'TRV' 'UTX' 'VZ' 'WMT' 'XOM'], use_torch=False)\n",
       "   Network was trained for 1400 epochs that took 4.1672 seconds. Final objective value is 1.000"
      ]
     },
     "execution_count": 33,
     "metadata": {},
     "output_type": "execute_result"
    }
   ],
   "source": [
    "dj_nnet1_scg.train(X, T, 1400, method='scg', verbose=True)\n",
    "dj_nnet1_adam.train(X, T, 800, method='adam', verbose=True, learning_rate= 0.1)\n",
    "dj_nnet1_sgd.train(X, T, 3000, method='sgd', verbose=True, learning_rate= 2.0)\n",
    "dj_nnet1_scg"
   ]
  },
  {
   "cell_type": "code",
   "execution_count": 34,
   "metadata": {},
   "outputs": [
    {
     "data": {
      "image/png": "[encoded data removed]",
      "text/plain": [
       "<Figure size 1080x360 with 2 Axes>"
      ]
     },
     "metadata": {
      "needs_background": "light"
     },
     "output_type": "display_data"
    }
   ],
   "source": [
    "Y_classes1, Y1 = dj_nnet1_scg.use(X)\n",
    "plt.figure(figsize=(15, 5))\n",
    "plt.subplot(1, 2, 1)\n",
    "plt.plot(dj_nnet1_scg.get_error_trace())\n",
    "plt.xlabel('epoch')\n",
    "plt.ylabel('Likelihood')\n",
    "\n",
    "plt.subplot(1, 2, 2)\n",
    "plt.plot(T.reshape(-1), 'o-')\n",
    "plt.plot(Y_classes1.reshape(-1), 'x-')\n",
    "plt.xlabel('Sample Index')\n",
    "plt.ylabel('Class')\n",
    "plt.legend(['Target Class', 'Predicted Class']);"
   ]
  },
  {
   "cell_type": "markdown",
   "metadata": {},
   "source": [
    "<h3>Network 2 [20, 20]</h3>"
   ]
  },
  {
   "cell_type": "code",
   "execution_count": 35,
   "metadata": {},
   "outputs": [
    {
     "data": {
      "text/plain": [
       "NeuralNetworkClassifier(14, [20, 20], ['AA' 'AXP' 'BA' 'BAC' 'CAT' 'CSCO' 'CVX' 'DD' 'DIS' 'GE' 'HD' 'HPQ' 'IBM'\n",
       " 'INTC' 'JNJ' 'JPM' 'KO' 'KRFT' 'MCD' 'MMM' 'MRK' 'MSFT' 'PFE' 'PG' 'T'\n",
       " 'TRV' 'UTX' 'VZ' 'WMT' 'XOM'], use_torch=False)  Network is not trained."
      ]
     },
     "execution_count": 35,
     "metadata": {},
     "output_type": "execute_result"
    }
   ],
   "source": [
    "dj_nnet2_scg = NeuralNetworkClassifier(14, [20, 20], classes)\n",
    "dj_nnet2_adam = NeuralNetworkClassifier(14, [20, 20], classes)\n",
    "dj_nnet2_sgd = NeuralNetworkClassifier(14, [20, 20], classes)\n",
    "dj_nnet2_scg"
   ]
  },
  {
   "cell_type": "code",
   "execution_count": 36,
   "metadata": {},
   "outputs": [
    {
     "name": "stdout",
     "output_type": "stream",
     "text": [
      "SCG: Iteration 200 ObjectiveF=0.99372 Scale=1.000e-15 Seconds=0.511\n",
      "SCG: Iteration 400 ObjectiveF=0.99902 Scale=1.000e-15 Seconds=0.547\n",
      "SCG: Iteration 600 ObjectiveF=0.99953 Scale=1.000e-15 Seconds=0.541\n",
      "SCG: Iteration 800 ObjectiveF=0.99990 Scale=1.000e-15 Seconds=0.564\n",
      "SCG: Iteration 1000 ObjectiveF=0.99995 Scale=1.000e-15 Seconds=0.521\n",
      "SCG: Iteration 1200 ObjectiveF=0.99997 Scale=1.000e-15 Seconds=0.526\n",
      "SCG: Iteration 1400 ObjectiveF=0.99999 Scale=1.000e-15 Seconds=0.524\n",
      "SCG: Iteration 1600 ObjectiveF=1.00000 Scale=1.000e-15 Seconds=0.548\n",
      "SCG: Iteration 1800 ObjectiveF=1.00000 Scale=1.000e-15 Seconds=0.530\n",
      "SCG: Iteration 2000 ObjectiveF=1.00000 Scale=1.000e-15 Seconds=0.532\n",
      "adam: Iteration 100 ObjectiveF=0.99989 Seconds=0.154\n",
      "adam: Iteration 200 ObjectiveF=0.99996 Seconds=0.151\n",
      "adam: Iteration 300 ObjectiveF=0.99998 Seconds=0.148\n",
      "adam: Iteration 400 ObjectiveF=0.99998 Seconds=0.150\n",
      "adam: Iteration 500 ObjectiveF=0.99999 Seconds=0.155\n",
      "adam: Iteration 600 ObjectiveF=0.99999 Seconds=0.147\n",
      "adam: Iteration 700 ObjectiveF=0.99999 Seconds=0.136\n",
      "adam: Iteration 800 ObjectiveF=0.99999 Seconds=0.131\n",
      "adam: Iteration 900 ObjectiveF=1.00000 Seconds=0.130\n",
      "adam: Iteration 1000 ObjectiveF=1.00000 Seconds=0.131\n",
      "sgd: Iteration 300 ObjectiveF=0.92682 Seconds=0.450\n",
      "sgd: Iteration 600 ObjectiveF=0.95088 Seconds=0.408\n",
      "sgd: Iteration 900 ObjectiveF=0.96617 Seconds=0.389\n",
      "sgd: Iteration 1200 ObjectiveF=0.97521 Seconds=0.386\n",
      "sgd: Iteration 1500 ObjectiveF=0.98098 Seconds=0.388\n",
      "sgd: Iteration 1800 ObjectiveF=0.98492 Seconds=0.386\n",
      "sgd: Iteration 2100 ObjectiveF=0.98779 Seconds=0.389\n",
      "sgd: Iteration 2400 ObjectiveF=0.98994 Seconds=0.384\n",
      "sgd: Iteration 2700 ObjectiveF=0.99153 Seconds=0.390\n",
      "sgd: Iteration 3000 ObjectiveF=0.99277 Seconds=0.396\n"
     ]
    },
    {
     "data": {
      "text/plain": [
       "NeuralNetworkClassifier(14, [20, 20], ['AA' 'AXP' 'BA' 'BAC' 'CAT' 'CSCO' 'CVX' 'DD' 'DIS' 'GE' 'HD' 'HPQ' 'IBM'\n",
       " 'INTC' 'JNJ' 'JPM' 'KO' 'KRFT' 'MCD' 'MMM' 'MRK' 'MSFT' 'PFE' 'PG' 'T'\n",
       " 'TRV' 'UTX' 'VZ' 'WMT' 'XOM'], use_torch=False)\n",
       "   Network was trained for 2000 epochs that took 5.3466 seconds. Final objective value is 1.000"
      ]
     },
     "execution_count": 36,
     "metadata": {},
     "output_type": "execute_result"
    }
   ],
   "source": [
    "dj_nnet2_scg.train(X, T, 2000, method='scg', verbose=True)\n",
    "dj_nnet2_adam.train(X, T, 1000, method='adam', verbose=True, learning_rate= 0.1)\n",
    "dj_nnet2_sgd.train(X, T, 3000, method='sgd', verbose=True, learning_rate= 2.0)\n",
    "dj_nnet2_scg"
   ]
  },
  {
   "cell_type": "code",
   "execution_count": 37,
   "metadata": {},
   "outputs": [
    {
     "data": {
      "image/png": "[encoded data removed]",
      "text/plain": [
       "<Figure size 1080x360 with 2 Axes>"
      ]
     },
     "metadata": {
      "needs_background": "light"
     },
     "output_type": "display_data"
    }
   ],
   "source": [
    "Y_classes2, Y2 = dj_nnet2_scg.use(X)\n",
    "plt.figure(figsize=(15, 5))\n",
    "plt.subplot(1, 2, 1)\n",
    "plt.plot(dj_nnet2_scg.get_error_trace())\n",
    "plt.xlabel('epoch')\n",
    "plt.ylabel('Likelihood')\n",
    "\n",
    "plt.subplot(1, 2, 2)\n",
    "plt.plot(T.reshape(-1), 'o-')\n",
    "plt.plot(Y_classes2.reshape(-1), 'x-')\n",
    "plt.xlabel('Sample Index')\n",
    "plt.ylabel('Class')\n",
    "plt.legend(['Target Class', 'Predicted Class']);"
   ]
  },
  {
   "cell_type": "markdown",
   "metadata": {},
   "source": [
    "<h3>Network 3 [10, 10]</h3>"
   ]
  },
  {
   "cell_type": "code",
   "execution_count": 38,
   "metadata": {},
   "outputs": [
    {
     "data": {
      "text/plain": [
       "NeuralNetworkClassifier(14, [10, 10], ['AA' 'AXP' 'BA' 'BAC' 'CAT' 'CSCO' 'CVX' 'DD' 'DIS' 'GE' 'HD' 'HPQ' 'IBM'\n",
       " 'INTC' 'JNJ' 'JPM' 'KO' 'KRFT' 'MCD' 'MMM' 'MRK' 'MSFT' 'PFE' 'PG' 'T'\n",
       " 'TRV' 'UTX' 'VZ' 'WMT' 'XOM'], use_torch=False)  Network is not trained."
      ]
     },
     "execution_count": 38,
     "metadata": {},
     "output_type": "execute_result"
    }
   ],
   "source": [
    "dj_nnet3_scg = NeuralNetworkClassifier(14, [10, 10], classes)\n",
    "dj_nnet3_adam = NeuralNetworkClassifier(14, [10, 10], classes)\n",
    "dj_nnet3_sgd = NeuralNetworkClassifier(14, [10, 10], classes)\n",
    "dj_nnet3_scg"
   ]
  },
  {
   "cell_type": "code",
   "execution_count": 39,
   "metadata": {},
   "outputs": [
    {
     "name": "stdout",
     "output_type": "stream",
     "text": [
      "SCG: Iteration 400 ObjectiveF=0.99336 Scale=1.000e-15 Seconds=1.395\n",
      "SCG: Iteration 800 ObjectiveF=0.99755 Scale=1.000e-15 Seconds=1.419\n",
      "SCG: Iteration 1200 ObjectiveF=0.99847 Scale=1.000e-15 Seconds=1.447\n",
      "SCG: Iteration 1600 ObjectiveF=0.99896 Scale=1.000e-15 Seconds=1.411\n",
      "SCG: Iteration 2000 ObjectiveF=0.99968 Scale=1.000e-15 Seconds=1.438\n",
      "SCG: Iteration 2400 ObjectiveF=0.99971 Scale=1.000e-15 Seconds=1.417\n",
      "SCG: Iteration 2800 ObjectiveF=0.99973 Scale=1.000e-15 Seconds=1.422\n",
      "SCG: Iteration 3200 ObjectiveF=0.99976 Scale=1.000e-15 Seconds=1.414\n",
      "SCG: Iteration 3600 ObjectiveF=0.99979 Scale=1.000e-15 Seconds=1.416\n",
      "SCG: Iteration 4000 ObjectiveF=0.99982 Scale=1.000e-15 Seconds=1.414\n",
      "adam: Iteration 400 ObjectiveF=0.99977 Seconds=0.709\n",
      "adam: Iteration 800 ObjectiveF=0.99967 Seconds=0.725\n",
      "adam: Iteration 1200 ObjectiveF=0.99988 Seconds=0.712\n",
      "adam: Iteration 1600 ObjectiveF=0.99998 Seconds=0.743\n",
      "adam: Iteration 2000 ObjectiveF=0.99999 Seconds=0.703\n",
      "adam: Iteration 2400 ObjectiveF=0.99999 Seconds=1.645\n",
      "adam: Iteration 2800 ObjectiveF=0.99999 Seconds=0.897\n",
      "adam: Iteration 3200 ObjectiveF=1.00000 Seconds=0.726\n",
      "adam: Iteration 3600 ObjectiveF=1.00000 Seconds=0.712\n",
      "adam: Iteration 4000 ObjectiveF=1.00000 Seconds=0.703\n",
      "sgd: Iteration 400 ObjectiveF=0.92536 Seconds=0.688\n",
      "sgd: Iteration 800 ObjectiveF=0.94586 Seconds=0.693\n",
      "sgd: Iteration 1200 ObjectiveF=0.95890 Seconds=0.694\n",
      "sgd: Iteration 1600 ObjectiveF=0.96859 Seconds=0.693\n",
      "sgd: Iteration 2000 ObjectiveF=0.97476 Seconds=0.689\n",
      "sgd: Iteration 2400 ObjectiveF=0.97906 Seconds=0.743\n",
      "sgd: Iteration 2800 ObjectiveF=0.98224 Seconds=0.692\n",
      "sgd: Iteration 3200 ObjectiveF=0.98459 Seconds=0.723\n",
      "sgd: Iteration 3600 ObjectiveF=0.98635 Seconds=0.693\n",
      "sgd: Iteration 4000 ObjectiveF=0.98774 Seconds=0.723\n"
     ]
    },
    {
     "data": {
      "text/plain": [
       "NeuralNetworkClassifier(14, [10, 10], ['AA' 'AXP' 'BA' 'BAC' 'CAT' 'CSCO' 'CVX' 'DD' 'DIS' 'GE' 'HD' 'HPQ' 'IBM'\n",
       " 'INTC' 'JNJ' 'JPM' 'KO' 'KRFT' 'MCD' 'MMM' 'MRK' 'MSFT' 'PFE' 'PG' 'T'\n",
       " 'TRV' 'UTX' 'VZ' 'WMT' 'XOM'], use_torch=False)\n",
       "   Network was trained for 4000 epochs that took 14.1949 seconds. Final objective value is 1.000"
      ]
     },
     "execution_count": 39,
     "metadata": {},
     "output_type": "execute_result"
    }
   ],
   "source": [
    "dj_nnet3_scg.train(X, T, 4000, method='scg', verbose=True)\n",
    "dj_nnet3_adam.train(X, T, 4000, method='adam', verbose=True, learning_rate= 0.1)\n",
    "dj_nnet3_sgd.train(X, T, 4000, method='sgd', verbose=True, learning_rate= 2.0)\n",
    "dj_nnet3_scg"
   ]
  },
  {
   "cell_type": "code",
   "execution_count": 40,
   "metadata": {},
   "outputs": [
    {
     "data": {
      "image/png": "[encoded data removed]",
      "text/plain": [
       "<Figure size 1080x360 with 2 Axes>"
      ]
     },
     "metadata": {
      "needs_background": "light"
     },
     "output_type": "display_data"
    }
   ],
   "source": [
    "Y_classes3, Y3 = dj_nnet3_scg.use(X)\n",
    "plt.figure(figsize=(15, 5))\n",
    "plt.subplot(1, 2, 1)\n",
    "plt.plot(dj_nnet3_scg.get_error_trace())\n",
    "plt.xlabel('epoch')\n",
    "plt.ylabel('Likelihood')\n",
    "\n",
    "plt.subplot(1, 2, 2)\n",
    "plt.plot(T.reshape(-1), 'o-')\n",
    "plt.plot(Y_classes3.reshape(-1), 'x-')\n",
    "plt.xlabel('Sample Index')\n",
    "plt.ylabel('Class')\n",
    "plt.legend(['Target Class', 'Predicted Class']);"
   ]
  },
  {
   "cell_type": "markdown",
   "metadata": {},
   "source": [
    "<h2>Discussion</h2>\n",
    "\n",
    "The dataset I choose are the stocks that make up the Dow Jones Index. There are 30 different stocks each with 14 different attributes and 750 total samples (duplicate stocks were recorded at different points in time). I used three different sized networks Network1 [30, 30], Network2 [20, 20], and Network 3 [10, 10]. I choose these 3 different sizes because I wanted to test if the size of the hidden layers needs to be at least the size of the number of classes. \n",
    "\n",
    "Network1 performed the best with the fastest increase in the objective function. Network1's best performing training was Adam (able to train to an objective function of 1.0 in 800 epochs), its second best performing training was SCG (able to train to an objective function of 1.0 in 1400 epochs), and its worst performing training was SGD (able to train to an objective function of 0.99 in 3000 epochs). Network1 was not able to reach an objective function of 1.0 using SGD with 3000 or less epochs. \n",
    "\n",
    "Network2 was the second best performing network with the second fastest increasing objective function. Network2's best performing training was Adam (able to train to an objective function of 1.0 in 900 epochs), its second best performing training was SCG (able to train to an objective function of 1.0 in 2000 epochs), and its worst performing training was SGD (able to train to an objective function of 0.99 in 3000 epochs). Reducing the hidden layers from 30 to 20 increased the amount of epochs needed to train SCG and Adam to the same objective function of 1.0, but they were still able to reach the objective function of 1.0. Network2 was not able to reach an objective function of 1.0 using SGD with 3000 or less epochs. \n",
    "\n",
    "Network3 performed the worst with the slowest increasing objective function. Network3's best performing training was Adam (able to train to an objective function of 1.0 in 2400 epochs), its second best performing training was SCG (able to train to an objective function of 0.999 in 4000 epochs), and its worst performing training was SGD (able to train to an objective function of 0.98 in 4000 epochs). Reducing the hidden layers from 20 to 10 again increased the amount of epochs needed to train Adam to the same objective function of 1.0, but Adam was still able to reach the objective function of 1.0. Network3 was not able to reach an objective function of 1.0 using SCG or SGD using 4000 or less epochs. \n",
    "\n",
    "Although using the same size of the hidden layers as number of classes (30) performed the best, reducing the size of the hidden layers didn't limit the objective function to lower than 1.0. Adam consistently trained the best on all three Networks, follwed by SCG and than SGD. The step size of Adam was set to 0.1 and the step size of SGD was set to 2.0 for all the trainings. Using a step size of 2.0 for SGD seemed large, but using a step size of 0.1 resulted in the model training way to slow."
   ]
  },
  {
   "cell_type": "markdown",
   "metadata": {},
   "source": [
    "<h2>Extra Credit 1</h2>"
   ]
  },
  {
   "cell_type": "code",
   "execution_count": 41,
   "metadata": {},
   "outputs": [],
   "source": [
    "I = {}\n",
    "for s in classes:\n",
    "    temp, _ = np.where(T == s)\n",
    "    I[s] = np.random.permutation(temp)\n",
    "\n",
    "N = {}\n",
    "for x, y in I.items():\n",
    "    N[x] = round(0.8*len(y))\n",
    "\n",
    "Ltrain = [] \n",
    "Ltest = []  \n",
    "for s2 in classes:\n",
    "    Ltrain.append(I[s2][:N[s2]])\n",
    "    Ltest.append(I[s2][N[s2]:])   \n",
    "    \n",
    "rowsTrain = np.hstack(Ltrain)\n",
    "Xtrain = X[rowsTrain, :]\n",
    "Ttrain = T[rowsTrain, :]\n",
    "rowsTest = np.hstack(Ltest)\n",
    "Xtest =  X[rowsTest, :]\n",
    "Ttest =  T[rowsTest, :]"
   ]
  },
  {
   "cell_type": "markdown",
   "metadata": {},
   "source": [
    "<h3>Network 1 [30, 30] SCG</h3>"
   ]
  },
  {
   "cell_type": "code",
   "execution_count": 42,
   "metadata": {
    "scrolled": true
   },
   "outputs": [
    {
     "name": "stdout",
     "output_type": "stream",
     "text": [
      "SCG: Iteration 50 ObjectiveF=0.97244 Scale=1.192e-13 Seconds=0.134\n",
      "SCG: Iteration 100 ObjectiveF=0.99631 Scale=1.000e-15 Seconds=0.146\n",
      "SCG: Iteration 150 ObjectiveF=0.99886 Scale=1.000e-15 Seconds=0.146\n",
      "SCG: Iteration 200 ObjectiveF=0.99912 Scale=1.000e-15 Seconds=0.148\n",
      "SCG: Iteration 250 ObjectiveF=0.99924 Scale=1.000e-15 Seconds=0.146\n",
      "SCG: Iteration 300 ObjectiveF=0.99957 Scale=1.000e-15 Seconds=0.146\n",
      "SCG: Iteration 350 ObjectiveF=0.99961 Scale=1.000e-15 Seconds=0.146\n",
      "SCG: Iteration 400 ObjectiveF=0.99964 Scale=1.000e-15 Seconds=0.133\n",
      "SCG: Iteration 450 ObjectiveF=0.99967 Scale=1.000e-15 Seconds=0.135\n",
      "SCG: Iteration 500 ObjectiveF=0.99970 Scale=1.000e-15 Seconds=0.146\n",
      "Training data 600 out of 600 samples, or 100.00 percent.\n",
      "Testing Data 147 out of 150 samples, or 98.00 percent.\n"
     ]
    }
   ],
   "source": [
    "par_nnet1_scg = NeuralNetworkClassifier(14, [30, 30], classes)\n",
    "par_nnet1_scg.train(Xtrain, Ttrain, 500, method='scg', verbose=True)\n",
    "Yc, Y = par_nnet1_scg.use(Xtrain)\n",
    "n_correct = (Yc == Ttrain).sum()\n",
    "print(f'Training data {n_correct} out of {Ttrain.shape[0]} samples, or {n_correct/Ttrain.shape[0]*100:.2f} percent.')\n",
    "Yc, Y = par_nnet1_scg.use(Xtest)\n",
    "n_correct = (Yc == Ttest).sum()\n",
    "print(f'Testing Data {n_correct} out of {Ttest.shape[0]} samples, or {n_correct/Ttest.shape[0]*100:.2f} percent.')"
   ]
  },
  {
   "cell_type": "markdown",
   "metadata": {},
   "source": [
    "<h3>Network 1 [30, 30] Adam</h3>"
   ]
  },
  {
   "cell_type": "code",
   "execution_count": 43,
   "metadata": {
    "scrolled": false
   },
   "outputs": [
    {
     "name": "stdout",
     "output_type": "stream",
     "text": [
      "adam: Iteration 50 ObjectiveF=0.99963 Seconds=0.071\n",
      "adam: Iteration 100 ObjectiveF=0.99993 Seconds=0.065\n",
      "adam: Iteration 150 ObjectiveF=0.99996 Seconds=0.064\n",
      "adam: Iteration 200 ObjectiveF=0.99997 Seconds=0.067\n",
      "adam: Iteration 250 ObjectiveF=0.99998 Seconds=0.069\n",
      "adam: Iteration 300 ObjectiveF=0.99998 Seconds=0.067\n",
      "adam: Iteration 350 ObjectiveF=0.99999 Seconds=0.064\n",
      "adam: Iteration 400 ObjectiveF=0.99999 Seconds=0.067\n",
      "adam: Iteration 450 ObjectiveF=0.99999 Seconds=0.066\n",
      "adam: Iteration 500 ObjectiveF=0.99999 Seconds=0.066\n",
      "Training data 600 out of 600 samples, or 100.00 percent.\n",
      "Testing Data 145 out of 150 samples, or 96.67 percent.\n"
     ]
    }
   ],
   "source": [
    "par_nnet1_adam = NeuralNetworkClassifier(14, [30, 30], classes)\n",
    "par_nnet1_adam.train(Xtrain, Ttrain, 500, method='adam', verbose=True, learning_rate= 0.1)\n",
    "Yc, Y = par_nnet1_adam.use(Xtrain)\n",
    "n_correct = (Yc == Ttrain).sum()\n",
    "print(f'Training data {n_correct} out of {Ttrain.shape[0]} samples, or {n_correct/Ttrain.shape[0]*100:.2f} percent.')\n",
    "Yc, Y = par_nnet1_adam.use(Xtest)\n",
    "n_correct = (Yc == Ttest).sum()\n",
    "print(f'Testing Data {n_correct} out of {Ttest.shape[0]} samples, or {n_correct/Ttest.shape[0]*100:.2f} percent.')"
   ]
  },
  {
   "cell_type": "markdown",
   "metadata": {},
   "source": [
    "<h3>Network 1 [30, 30] SGD</h3>"
   ]
  },
  {
   "cell_type": "code",
   "execution_count": 44,
   "metadata": {},
   "outputs": [
    {
     "name": "stdout",
     "output_type": "stream",
     "text": [
      "sgd: Iteration 200 ObjectiveF=0.92458 Seconds=0.292\n",
      "sgd: Iteration 400 ObjectiveF=0.94830 Seconds=0.249\n",
      "sgd: Iteration 600 ObjectiveF=0.96197 Seconds=0.249\n",
      "sgd: Iteration 800 ObjectiveF=0.97082 Seconds=0.248\n",
      "sgd: Iteration 1000 ObjectiveF=0.97711 Seconds=0.273\n",
      "sgd: Iteration 1200 ObjectiveF=0.98176 Seconds=0.341\n",
      "sgd: Iteration 1400 ObjectiveF=0.98519 Seconds=0.284\n",
      "sgd: Iteration 1600 ObjectiveF=0.98773 Seconds=0.246\n",
      "sgd: Iteration 1800 ObjectiveF=0.98964 Seconds=0.245\n",
      "sgd: Iteration 2000 ObjectiveF=0.99110 Seconds=0.247\n",
      "Training data 582 out of 600 samples, or 97.00 percent.\n",
      "Testing Data 145 out of 150 samples, or 96.67 percent.\n"
     ]
    }
   ],
   "source": [
    "par_nnet1_sgd = NeuralNetworkClassifier(14, [30, 30], classes)\n",
    "par_nnet1_sgd.train(Xtrain, Ttrain, 2000, method='sgd', verbose=True, learning_rate= 2.0)\n",
    "Yc, Y = par_nnet1_sgd.use(Xtrain)\n",
    "n_correct = (Yc == Ttrain).sum()\n",
    "print(f'Training data {n_correct} out of {Ttrain.shape[0]} samples, or {n_correct/Ttrain.shape[0]*100:.2f} percent.')\n",
    "Yc, Y = par_nnet1_sgd.use(Xtest)\n",
    "n_correct = (Yc == Ttest).sum()\n",
    "print(f'Testing Data {n_correct} out of {Ttest.shape[0]} samples, or {n_correct/Ttest.shape[0]*100:.2f} percent.')"
   ]
  },
  {
   "cell_type": "markdown",
   "metadata": {},
   "source": [
    "<h3>Network 2 [20, 20] SCG</h3>"
   ]
  },
  {
   "cell_type": "code",
   "execution_count": 45,
   "metadata": {
    "scrolled": true
   },
   "outputs": [
    {
     "name": "stdout",
     "output_type": "stream",
     "text": [
      "SCG: Iteration 100 ObjectiveF=0.99659 Scale=1.000e-15 Seconds=0.237\n",
      "SCG: Iteration 200 ObjectiveF=0.99789 Scale=1.000e-15 Seconds=0.230\n",
      "SCG: Iteration 300 ObjectiveF=0.99839 Scale=1.000e-15 Seconds=0.229\n",
      "SCG: Iteration 400 ObjectiveF=0.99875 Scale=1.000e-15 Seconds=0.230\n",
      "SCG: Iteration 500 ObjectiveF=0.99903 Scale=1.000e-15 Seconds=0.231\n",
      "SCG: Iteration 600 ObjectiveF=0.99922 Scale=1.000e-15 Seconds=0.255\n",
      "SCG: Iteration 700 ObjectiveF=0.99961 Scale=1.000e-15 Seconds=0.231\n",
      "SCG: Iteration 800 ObjectiveF=0.99965 Scale=1.000e-15 Seconds=0.247\n",
      "SCG: Iteration 900 ObjectiveF=0.99969 Scale=1.000e-15 Seconds=0.232\n",
      "SCG: Iteration 1000 ObjectiveF=0.99972 Scale=1.000e-15 Seconds=0.230\n",
      "Training data 600 out of 600 samples, or 100.00 percent.\n",
      "Testing Data 146 out of 150 samples, or 97.33 percent.\n"
     ]
    }
   ],
   "source": [
    "par_nnet2_scg = NeuralNetworkClassifier(14, [20, 20], classes)\n",
    "par_nnet2_scg.train(Xtrain, Ttrain, 1000, method='scg', verbose=True)\n",
    "Yc, Y = par_nnet2_scg.use(Xtrain)\n",
    "n_correct = (Yc == Ttrain).sum()\n",
    "print(f'Training data {n_correct} out of {Ttrain.shape[0]} samples, or {n_correct/Ttrain.shape[0]*100:.2f} percent.')\n",
    "Yc, Y = par_nnet2_scg.use(Xtest)\n",
    "n_correct = (Yc == Ttest).sum()\n",
    "print(f'Testing Data {n_correct} out of {Ttest.shape[0]} samples, or {n_correct/Ttest.shape[0]*100:.2f} percent.')"
   ]
  },
  {
   "cell_type": "markdown",
   "metadata": {},
   "source": [
    "<h3>Network 2 [20, 20] Adam</h3>"
   ]
  },
  {
   "cell_type": "code",
   "execution_count": 46,
   "metadata": {
    "scrolled": false
   },
   "outputs": [
    {
     "name": "stdout",
     "output_type": "stream",
     "text": [
      "adam: Iteration 100 ObjectiveF=0.99987 Seconds=0.119\n",
      "adam: Iteration 200 ObjectiveF=0.99995 Seconds=0.124\n",
      "adam: Iteration 300 ObjectiveF=0.99997 Seconds=0.130\n",
      "adam: Iteration 400 ObjectiveF=0.99998 Seconds=0.128\n",
      "adam: Iteration 500 ObjectiveF=0.99999 Seconds=0.115\n",
      "adam: Iteration 600 ObjectiveF=0.99999 Seconds=0.114\n",
      "adam: Iteration 700 ObjectiveF=0.99999 Seconds=0.115\n",
      "adam: Iteration 800 ObjectiveF=0.99999 Seconds=0.196\n",
      "adam: Iteration 900 ObjectiveF=1.00000 Seconds=0.255\n",
      "adam: Iteration 1000 ObjectiveF=1.00000 Seconds=0.245\n",
      "Training data 600 out of 600 samples, or 100.00 percent.\n",
      "Testing Data 148 out of 150 samples, or 98.67 percent.\n"
     ]
    }
   ],
   "source": [
    "par_nnet2_adam = NeuralNetworkClassifier(14, [20, 20], classes)\n",
    "par_nnet2_adam.train(Xtrain, Ttrain, 1000, method='adam', verbose=True, learning_rate= 0.1)\n",
    "Yc, Y = par_nnet2_adam.use(Xtrain)\n",
    "n_correct = (Yc == Ttrain).sum()\n",
    "print(f'Training data {n_correct} out of {Ttrain.shape[0]} samples, or {n_correct/Ttrain.shape[0]*100:.2f} percent.')\n",
    "Yc, Y = par_nnet2_adam.use(Xtest)\n",
    "n_correct = (Yc == Ttest).sum()\n",
    "print(f'Testing Data {n_correct} out of {Ttest.shape[0]} samples, or {n_correct/Ttest.shape[0]*100:.2f} percent.')"
   ]
  },
  {
   "cell_type": "markdown",
   "metadata": {},
   "source": [
    "<h3>Network 2 [20, 20] SGD</h3>"
   ]
  },
  {
   "cell_type": "code",
   "execution_count": 47,
   "metadata": {},
   "outputs": [
    {
     "name": "stdout",
     "output_type": "stream",
     "text": [
      "sgd: Iteration 400 ObjectiveF=0.93896 Seconds=0.895\n",
      "sgd: Iteration 800 ObjectiveF=0.96523 Seconds=0.574\n",
      "sgd: Iteration 1200 ObjectiveF=0.97798 Seconds=0.473\n",
      "sgd: Iteration 1600 ObjectiveF=0.98501 Seconds=0.459\n",
      "sgd: Iteration 2000 ObjectiveF=0.98896 Seconds=0.442\n",
      "sgd: Iteration 2400 ObjectiveF=0.99141 Seconds=0.461\n",
      "sgd: Iteration 2800 ObjectiveF=0.99309 Seconds=0.466\n",
      "sgd: Iteration 3200 ObjectiveF=0.99430 Seconds=0.442\n",
      "sgd: Iteration 3600 ObjectiveF=0.99521 Seconds=0.442\n",
      "sgd: Iteration 4000 ObjectiveF=0.99591 Seconds=0.442\n",
      "Training data 591 out of 600 samples, or 98.50 percent.\n",
      "Testing Data 145 out of 150 samples, or 96.67 percent.\n"
     ]
    }
   ],
   "source": [
    "par_nnet2_sgd = NeuralNetworkClassifier(14, [20, 20], classes)\n",
    "par_nnet2_sgd.train(Xtrain, Ttrain, 4000, method='sgd', verbose=True, learning_rate= 2.0)\n",
    "Yc, Y = par_nnet2_sgd.use(Xtrain)\n",
    "n_correct = (Yc == Ttrain).sum()\n",
    "print(f'Training data {n_correct} out of {Ttrain.shape[0]} samples, or {n_correct/Ttrain.shape[0]*100:.2f} percent.')\n",
    "Yc, Y = par_nnet2_sgd.use(Xtest)\n",
    "n_correct = (Yc == Ttest).sum()\n",
    "print(f'Testing Data {n_correct} out of {Ttest.shape[0]} samples, or {n_correct/Ttest.shape[0]*100:.2f} percent.')"
   ]
  },
  {
   "cell_type": "markdown",
   "metadata": {},
   "source": [
    "<h3>Network 3 [10, 10] SCG</h3>"
   ]
  },
  {
   "cell_type": "code",
   "execution_count": 48,
   "metadata": {
    "scrolled": true
   },
   "outputs": [
    {
     "name": "stdout",
     "output_type": "stream",
     "text": [
      "SCG: Iteration 150 ObjectiveF=0.98906 Scale=1.000e-15 Seconds=0.504\n",
      "SCG: Iteration 300 ObjectiveF=0.99202 Scale=1.000e-15 Seconds=0.447\n",
      "SCG: Iteration 450 ObjectiveF=0.99798 Scale=1.000e-15 Seconds=0.470\n",
      "SCG: Iteration 600 ObjectiveF=0.99883 Scale=1.000e-15 Seconds=0.450\n",
      "SCG: Iteration 750 ObjectiveF=0.99908 Scale=1.000e-15 Seconds=0.467\n",
      "SCG: Iteration 900 ObjectiveF=0.99919 Scale=1.000e-15 Seconds=0.463\n",
      "SCG: Iteration 1050 ObjectiveF=0.99942 Scale=1.000e-15 Seconds=0.500\n",
      "SCG: Iteration 1200 ObjectiveF=0.99967 Scale=1.000e-15 Seconds=0.447\n",
      "SCG: Iteration 1350 ObjectiveF=0.99970 Scale=1.000e-15 Seconds=0.446\n",
      "SCG: Iteration 1500 ObjectiveF=0.99981 Scale=1.000e-15 Seconds=0.447\n",
      "Training data 600 out of 600 samples, or 100.00 percent.\n",
      "Testing Data 140 out of 150 samples, or 93.33 percent.\n"
     ]
    }
   ],
   "source": [
    "par_nnet3_scg = NeuralNetworkClassifier(14, [10, 10], classes)\n",
    "par_nnet3_scg.train(Xtrain, Ttrain, 1500, method='scg', verbose=True)\n",
    "Yc, Y = par_nnet3_scg.use(Xtrain)\n",
    "n_correct = (Yc == Ttrain).sum()\n",
    "print(f'Training data {n_correct} out of {Ttrain.shape[0]} samples, or {n_correct/Ttrain.shape[0]*100:.2f} percent.')\n",
    "Yc, Y = par_nnet3_scg.use(Xtest)\n",
    "n_correct = (Yc == Ttest).sum()\n",
    "print(f'Testing Data {n_correct} out of {Ttest.shape[0]} samples, or {n_correct/Ttest.shape[0]*100:.2f} percent.')"
   ]
  },
  {
   "cell_type": "markdown",
   "metadata": {},
   "source": [
    "<h3>Network 3 [10, 10] Adam</h3>"
   ]
  },
  {
   "cell_type": "code",
   "execution_count": 49,
   "metadata": {
    "scrolled": false
   },
   "outputs": [
    {
     "name": "stdout",
     "output_type": "stream",
     "text": [
      "adam: Iteration 150 ObjectiveF=0.99967 Seconds=0.241\n",
      "adam: Iteration 300 ObjectiveF=0.99991 Seconds=0.244\n",
      "adam: Iteration 450 ObjectiveF=0.99996 Seconds=0.241\n",
      "adam: Iteration 600 ObjectiveF=0.99997 Seconds=0.233\n",
      "adam: Iteration 750 ObjectiveF=0.99998 Seconds=0.242\n",
      "adam: Iteration 900 ObjectiveF=0.99999 Seconds=0.224\n",
      "adam: Iteration 1050 ObjectiveF=0.99999 Seconds=0.223\n",
      "adam: Iteration 1200 ObjectiveF=0.99999 Seconds=0.223\n",
      "adam: Iteration 1350 ObjectiveF=0.99999 Seconds=0.223\n",
      "adam: Iteration 1500 ObjectiveF=0.99999 Seconds=0.225\n",
      "Training data 600 out of 600 samples, or 100.00 percent.\n",
      "Testing Data 146 out of 150 samples, or 97.33 percent.\n"
     ]
    }
   ],
   "source": [
    "par_nnet3_adam = NeuralNetworkClassifier(14, [10, 10], classes)\n",
    "par_nnet3_adam.train(Xtrain, Ttrain, 1500, method='adam', verbose=True, learning_rate= 0.1)\n",
    "Yc, Y = par_nnet3_adam.use(Xtrain)\n",
    "n_correct = (Yc == Ttrain).sum()\n",
    "print(f'Training data {n_correct} out of {Ttrain.shape[0]} samples, or {n_correct/Ttrain.shape[0]*100:.2f} percent.')\n",
    "Yc, Y = par_nnet3_adam.use(Xtest)\n",
    "n_correct = (Yc == Ttest).sum()\n",
    "print(f'Testing Data {n_correct} out of {Ttest.shape[0]} samples, or {n_correct/Ttest.shape[0]*100:.2f} percent.')"
   ]
  },
  {
   "cell_type": "markdown",
   "metadata": {},
   "source": [
    "<h3>Network 3 [10, 10] SGD</h3>"
   ]
  },
  {
   "cell_type": "code",
   "execution_count": 50,
   "metadata": {},
   "outputs": [
    {
     "name": "stdout",
     "output_type": "stream",
     "text": [
      "sgd: Iteration 600 ObjectiveF=0.94099 Seconds=0.881\n",
      "sgd: Iteration 1200 ObjectiveF=0.96215 Seconds=0.917\n",
      "sgd: Iteration 1800 ObjectiveF=0.97147 Seconds=0.919\n",
      "sgd: Iteration 2400 ObjectiveF=0.97778 Seconds=0.906\n",
      "sgd: Iteration 3000 ObjectiveF=0.98249 Seconds=0.903\n",
      "sgd: Iteration 3600 ObjectiveF=0.98590 Seconds=0.876\n",
      "sgd: Iteration 4200 ObjectiveF=0.98831 Seconds=0.876\n",
      "sgd: Iteration 4800 ObjectiveF=0.99015 Seconds=0.880\n",
      "sgd: Iteration 5400 ObjectiveF=0.99159 Seconds=0.925\n",
      "sgd: Iteration 6000 ObjectiveF=0.99275 Seconds=0.877\n",
      "Training data 578 out of 600 samples, or 96.33 percent.\n",
      "Testing Data 142 out of 150 samples, or 94.67 percent.\n"
     ]
    }
   ],
   "source": [
    "par_nnet3_sgd = NeuralNetworkClassifier(14, [10, 10], classes)\n",
    "par_nnet3_sgd.train(Xtrain, Ttrain, 6000, method='sgd', verbose=True, learning_rate= 2.0)\n",
    "Yc, Y = par_nnet3_sgd.use(Xtrain)\n",
    "n_correct = (Yc == Ttrain).sum()\n",
    "print(f'Training data {n_correct} out of {Ttrain.shape[0]} samples, or {n_correct/Ttrain.shape[0]*100:.2f} percent.')\n",
    "Yc, Y = par_nnet3_sgd.use(Xtest)\n",
    "n_correct = (Yc == Ttest).sum()\n",
    "print(f'Testing Data {n_correct} out of {Ttest.shape[0]} samples, or {n_correct/Ttest.shape[0]*100:.2f} percent.')"
   ]
  },
  {
   "cell_type": "markdown",
   "metadata": {},
   "source": [
    "<h2>Discussion Extra Credit 1</h2>\n",
    "\n",
    "I re-used the three different sized networks Network1 [30, 30], Network2 [20, 20], and Network 3 [10, 10] from the main assignment. I also used the same Dow Jones data (600 training, 150 testing) with an 80/20 split. All of the networks using SCG or Adam got a 600/600 (100%) on the training data. While all the networks using SGD got 580-590/600 (\\~97-98%). Suprisingly all of the networks and training methods resulted in an 140-148/150 (~94-98%) success rate on the testing data making it hard to compare them using only one NN initialization. After initializing each network multiple times it seems that the best to worst networks were Network1, Network2, Network3 and that the best to worst training methods were SCG, Adam, SGD based on their testing success rate. The amount of epochs I used on Network 1 for both SCG and Adam was 500 and for SGD it was 2000. The amount of epochs I used on Network 2 for both SCG and Adam was 1000 and for SGD it was 4000. The amount of epochs I used on Network 3 for both SCG and Adam was 1500 and for SGD it was 6000. The reasoning behind increasing the epochs is that the smaller hidden layers neural networks need more training to achieve the same objective function level as the larger hidden layers neural networks."
   ]
  },
  {
   "cell_type": "markdown",
   "metadata": {},
   "source": [
    "<h2>Extra Credit 2</h2>\n",
    "*Had same problem mentioned in class where using the gpu slows down alot in the higher iterations of training"
   ]
  },
  {
   "cell_type": "code",
   "execution_count": 51,
   "metadata": {},
   "outputs": [
    {
     "name": "stdout",
     "output_type": "stream",
     "text": [
      "SCG: Iteration 20 ObjectiveF=0.98697 Scale=8.289e-08 Seconds=0.266\n",
      "SCG: Iteration 40 ObjectiveF=0.99830 Scale=1.581e-13 Seconds=0.596\n",
      "SCG: Iteration 60 ObjectiveF=0.99945 Scale=1.000e-15 Seconds=0.763\n",
      "SCG: Iteration 80 ObjectiveF=0.99973 Scale=1.000e-15 Seconds=0.900\n",
      "SCG: Iteration 100 ObjectiveF=0.99984 Scale=1.000e-15 Seconds=0.660\n",
      "SCG: Iteration 120 ObjectiveF=0.99991 Scale=2.560e-13 Seconds=0.746\n",
      "SCG: Iteration 140 ObjectiveF=0.99994 Scale=2.147e-06 Seconds=0.308\n",
      "SCG: Iteration 160 ObjectiveF=0.99995 Scale=1.342e-07 Seconds=1.263\n",
      "SCG: Iteration 180 ObjectiveF=0.99996 Scale=6.872e-05 Seconds=1.137\n",
      "SCG: Iteration 200 ObjectiveF=0.99998 Scale=1.737e-04 Seconds=2.175\n"
     ]
    }
   ],
   "source": [
    "gpu_nnet = NeuralNetworkClassifier(14, [30, 30], classes, use_torch=True, use_gpu=True)\n",
    "gpu_nnet.train(X, T, 200, method='scg', verbose=True)\n",
    "Y_classes, Y = gpu_nnet.use(X)"
   ]
  },
  {
   "cell_type": "code",
   "execution_count": 52,
   "metadata": {},
   "outputs": [],
   "source": [
    "# !rm A3grader.zip\n",
    "# !rm A3grader.py\n",
    "# !wget https://www.cs.colostate.edu/~anderson/cs545/notebooks/A3grader.zip\n",
    "# !unzip A3grader.zip\n",
    "# %run -i A3grader.py"
   ]
  }
 ],
 "metadata": {
  "kernelspec": {
   "display_name": "Python 3",
   "language": "python",
   "name": "python3"
  },
  "language_info": {
   "codemirror_mode": {
    "name": "ipython",
    "version": 3
   },
   "file_extension": ".py",
   "mimetype": "text/x-python",
   "name": "python",
   "nbconvert_exporter": "python",
   "pygments_lexer": "ipython3",
   "version": "3.7.3"
  }
 },
 "nbformat": 4,
 "nbformat_minor": 2
}
