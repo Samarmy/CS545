{
 "cells": [
  {
   "cell_type": "markdown",
   "metadata": {},
   "source": [
    "<h1>Sam Armstrong Assignment 4 CS545</h1>"
   ]
  },
  {
   "cell_type": "code",
   "execution_count": 1,
   "metadata": {},
   "outputs": [],
   "source": [
    "import numpy as np\n",
    "import matplotlib.pyplot as plt\n",
    "import copy\n",
    "import sys\n",
    "import pandas\n",
    "\n",
    "import torch\n",
    "import mlutilities as ml  # for ml.draw\n",
    "import optimizers as opt  # for opt.sgd, opt.adam, and opt.scg\n",
    "\n",
    "import time\n",
    "import copy\n",
    "import pickle, gzip\n",
    "\n",
    "import neuralnetworks as nn\n",
    "# import optimizers as opt  # from Lecture Notes"
   ]
  },
  {
   "cell_type": "code",
   "execution_count": 2,
   "metadata": {},
   "outputs": [],
   "source": [
    "class NeuralNetwork_Convolutional():\n",
    "    \n",
    "    def __init__(self, n_channels_in_image, image_size,\n",
    "                 n_units_in_conv_layers, kernels_size_and_stride,\n",
    "                 n_units_in_fc_hidden_layers,\n",
    "                 classes, use_gpu=False, verbose=True):\n",
    "\n",
    "        if not isinstance(n_units_in_conv_layers, list):\n",
    "            raise Exception('n_units_in_conv_layers must be a list')\n",
    "\n",
    "        if not isinstance(n_units_in_fc_hidden_layers, list):\n",
    "            raise Exception('n_units_in_fc_hidden_layers must be a list')\n",
    "        \n",
    "        if use_gpu and not torch.cuda.is_available():\n",
    "            print('\\nGPU is not available. Running on CPU.\\n')\n",
    "            use_gpu = False\n",
    "\n",
    "        self.n_channels_in_image = n_channels_in_image\n",
    "        self.image_size = image_size \n",
    "        self.n_units_in_conv_layers = n_units_in_conv_layers\n",
    "        self.n_units_in_fc_hidden_layers = n_units_in_fc_hidden_layers\n",
    "        self.kernels_size_and_stride = kernels_size_and_stride\n",
    "        self.n_outputs = len(classes)\n",
    "        self.classes = np.array(classes)\n",
    "        self.use_gpu = use_gpu\n",
    "        self.verbose = verbose\n",
    "        \n",
    "        self.n_conv_layers = len(self.n_units_in_conv_layers)\n",
    "        self.n_fc_hidden_layers = len(self.n_units_in_fc_hidden_layers)\n",
    "\n",
    "        # Build the net layers\n",
    "        self.nnet = torch.nn.Sequential()\n",
    "\n",
    "        # Add convolutional layers\n",
    "\n",
    "        n_units_previous = self.n_channels_in_image\n",
    "        output_size_previous = self.image_size\n",
    "        n_layers = 0\n",
    "        if self.n_conv_layers > 0:\n",
    "\n",
    "            for (n_units, kernel) in zip(self.n_units_in_conv_layers, self.kernels_size_and_stride):\n",
    "                n_units_previous, output_size_previous = self._add_conv2d_tanh(n_layers,\n",
    "                                        n_units_previous, output_size_previous, n_units, kernel)\n",
    "                n_layers += 1 # for text label in layer\n",
    "                \n",
    "        # A4.3 version moved following statement left one indent level\n",
    "        \n",
    "        self.nnet.add_module('flatten', torch.nn.Flatten())  # prepare for fc layers\n",
    "\n",
    "        n_inputs = output_size_previous ** 2 * n_units_previous\n",
    "        if self.n_fc_hidden_layers > 0:\n",
    "            for n_units in self.n_units_in_fc_hidden_layers:\n",
    "                n_inputs = self._add_fc_tanh(n_layers, n_inputs, n_units)\n",
    "                n_layers += 1\n",
    "\n",
    "        self.nnet.add_module(f'output_{n_layers}', torch.nn.Linear(n_inputs, self.n_outputs))\n",
    "\n",
    "        # Member variables for standardization\n",
    "        self.Xmeans = None\n",
    "        self.Xstds = None\n",
    "\n",
    "        if self.use_gpu:\n",
    "            self.nnet.cuda()\n",
    "\n",
    "        self.n_epochs = 0\n",
    "        self.error_trace = []\n",
    "\n",
    "    def _add_conv2d_tanh(self, n_layers, n_units_previous, output_size_previous,\n",
    "                   n_units, kernel_size_and_stride):\n",
    "        kernel_size, kernel_stride = kernel_size_and_stride\n",
    "        self.nnet.add_module(f'conv_{n_layers}', torch.nn.Conv2d(n_units_previous, n_units,\n",
    "                                                                 kernel_size, kernel_stride))\n",
    "        self.nnet.add_module(f'output_{n_layers}', torch.nn.Tanh())\n",
    "        output_size_previous = (output_size_previous - kernel_size) // kernel_stride + 1\n",
    "        n_units_previous = n_units                \n",
    "        return n_units_previous, output_size_previous\n",
    "    \n",
    "    def _add_fc_tanh(self, n_layers, n_inputs, n_units):\n",
    "        self.nnet.add_module(f'linear_{n_layers}', torch.nn.Linear(n_inputs, n_units))\n",
    "        self.nnet.add_module(f'output_{n_layers}', torch.nn.Tanh())\n",
    "        n_inputs = n_units\n",
    "        return n_inputs\n",
    "\n",
    "    def __repr__(self):\n",
    "        str = f'''{type(self).__name__}(\n",
    "                            n_channels_in_image={self.n_channels_in_image},\n",
    "                            image_size={self.image_size},\n",
    "                            n_units_in_conv_layers={self.n_units_in_conv_layers},\n",
    "                            kernels_size_and_stride={self.kernels_size_and_stride},\n",
    "                            n_units_in_fc_hidden_layers={self.n_units_in_fc_hidden_layers},\n",
    "                            classes={self.classes},\n",
    "                            use_gpu={self.use_gpu})'''\n",
    "\n",
    "        str += self.nnet\n",
    "        if self.n_epochs > 0:\n",
    "            str += f'\\n   Network was trained for {self.n_epochs} epochs that took {self.training_time:.4f} seconds.'\n",
    "            str += f'\\n   Final objective value is {self.error_trace[-1]:.3f}'\n",
    "        else:\n",
    "            str += '  Network is not trained.'\n",
    "        return str\n",
    "        \n",
    "    def _standardizeX(self, X):\n",
    "        result = (X - self.Xmeans) / self.XstdsFixed\n",
    "        result[:, self.Xconstant] = 0.0\n",
    "        return result\n",
    "\n",
    "    def _unstandardizeX(self, Xs):\n",
    "        return self.Xstds * Xs + self.Xmeans\n",
    "\n",
    "    def _setup_standardize(self, X, T):\n",
    "        if self.Xmeans is None:\n",
    "            self.Xmeans = X.mean(axis=0)\n",
    "            self.Xstds = X.std(axis=0)\n",
    "            self.Xconstant = self.Xstds == 0\n",
    "            self.XstdsFixed = copy.copy(self.Xstds)\n",
    "            self.XstdsFixed[self.Xconstant] = 1\n",
    "\n",
    "    def train(self, X, T, n_epochs, learning_rate=0.01):\n",
    "\n",
    "        start_time = time.time()\n",
    "        \n",
    "        self.learning_rate = learning_rate\n",
    "\n",
    "        if T.ndim == 1:\n",
    "            T = T.reshape((-1, 1))\n",
    "\n",
    "        _, T = np.where(T == self.classes)  # convert to labels from 0\n",
    "\n",
    "        self._setup_standardize(X, T)\n",
    "        X = self._standardizeX(X)\n",
    "\n",
    "        X = torch.tensor(X)\n",
    "        T = torch.tensor(T.reshape(-1))\n",
    "        if self.use_gpu:\n",
    "            X = X.cuda()\n",
    "            T = T.cuda()\n",
    "\n",
    "            \n",
    "        self.optimizer = torch.optim.Adam(self.nnet.parameters(), lr=learning_rate)\n",
    "        self.loss_F = torch.nn.CrossEntropyLoss()\n",
    "\n",
    "        for epoch in range(1, n_epochs + 1):\n",
    "\n",
    "            self.optimizer.zero_grad()\n",
    "\n",
    "            Y = self.nnet(X)\n",
    "\n",
    "            error = self.loss_F(Y, T)\n",
    "            \n",
    "            if epoch % int(n_epochs/10) == 0 and self.verbose:\n",
    "                print(f'Epoch {epoch} error {error:.5f}')\n",
    "\n",
    "            error.backward()\n",
    "\n",
    "            self.optimizer.step()\n",
    "            \n",
    "            self.error_trace.append(error)\n",
    "        \n",
    "        self.training_time = time.time() - start_time\n",
    "        \n",
    "    def get_error_trace(self):\n",
    "        return self.error_trace\n",
    "    \n",
    "    def _softmax(self, Y):\n",
    "        mx = Y.max()\n",
    "        expY = np.exp(Y - mx)\n",
    "        denom = expY.sum(axis=1).reshape((-1, 1)) + sys.float_info.epsilon\n",
    "        return expY / denom\n",
    "    \n",
    "    def use(self, X):\n",
    "        self.nnet.eval()  # turn off gradients and other aspects of training\n",
    "        X = self._standardizeX(X)\n",
    "        X = torch.tensor(X)\n",
    "        if self.use_gpu:\n",
    "            X = X.cuda()\n",
    "\n",
    "        Y = self.nnet(X)\n",
    "\n",
    "        if self.use_gpu:\n",
    "            Y = Y.cpu()\n",
    "        Y = Y.detach().numpy()\n",
    "        Yclasses = self.classes[Y.argmax(axis=1)].reshape((-1, 1))\n",
    "\n",
    "        return Yclasses, self._softmax(Y)\n"
   ]
  },
  {
   "cell_type": "markdown",
   "metadata": {},
   "source": [
    "<h2>Simple Example with Squares and Diamonds</h2>\n",
    "\n",
    "Repeating the example from lecture notes."
   ]
  },
  {
   "cell_type": "code",
   "execution_count": 3,
   "metadata": {},
   "outputs": [
    {
     "data": {
      "text/plain": [
       "((1000, 1, 20, 20), (1000, 1), (20, 1, 20, 20), (20, 1))"
      ]
     },
     "execution_count": 3,
     "metadata": {},
     "output_type": "execute_result"
    }
   ],
   "source": [
    "def make_images(nEach):\n",
    "    images = np.zeros((nEach * 2, 1, 20, 20))  # nSamples, nChannels, rows, columns\n",
    "    radii = 3 + np.random.randint(10 - 5, size=(nEach * 2, 1))\n",
    "    centers = np.zeros((nEach * 2, 2))\n",
    "    for i in range(nEach * 2):\n",
    "        r = radii[i, 0]\n",
    "        centers[i, :] = r + 1 + np.random.randint(18 - 2 * r, size=(1, 2))\n",
    "        x = int(centers[i, 0])\n",
    "        y = int(centers[i, 1])\n",
    "        if i < nEach:\n",
    "            # squares\n",
    "            images[i, 0, x - r:x + r, y + r] = 1.0\n",
    "            images[i, 0, x - r:x + r, y - r] = 1.0\n",
    "            images[i, 0, x - r, y - r:y + r] = 1.0\n",
    "            images[i, 0, x + r, y - r:y + r + 1] = 1.0\n",
    "        else:\n",
    "            # diamonds\n",
    "            images[i, 0, range(x - r, x), range(y, y + r)] = 1.0\n",
    "            images[i, 0, range(x - r, x), range(y, y - r, -1)] = 1.0\n",
    "            images[i, 0, range(x, x + r + 1), range(y + r, y - 1, -1)] = 1.0\n",
    "            images[i, 0, range(x, x + r), range(y - r, y)] = 1.0\n",
    "            # images += np.random.randn(*images.shape) * 0.5\n",
    "            T = np.ones((nEach * 2, 1))\n",
    "            T[nEach:] = 2\n",
    "    return images.astype(np.float32), T.astype(np.int)\n",
    "\n",
    "Xtrain, Ttrain = make_images(500)\n",
    "Xtest, Ttest = make_images(10)\n",
    "\n",
    "Xtrain.shape, Ttrain.shape, Xtest.shape, Ttest.shape"
   ]
  },
  {
   "cell_type": "code",
   "execution_count": 4,
   "metadata": {},
   "outputs": [
    {
     "name": "stdout",
     "output_type": "stream",
     "text": [
      "Epoch 5 error 0.52405\n",
      "Epoch 10 error 0.36662\n",
      "Epoch 15 error 0.24395\n",
      "Epoch 20 error 0.16086\n",
      "Epoch 25 error 0.11042\n",
      "Epoch 30 error 0.08320\n",
      "Epoch 35 error 0.06659\n",
      "Epoch 40 error 0.05520\n",
      "Epoch 45 error 0.04691\n",
      "Epoch 50 error 0.04066\n"
     ]
    }
   ],
   "source": [
    "nnet = NeuralNetwork_Convolutional(n_channels_in_image=Xtrain.shape[1],\n",
    "                                   image_size=Xtrain.shape[2],\n",
    "                                   n_units_in_conv_layers=[5], # , 5],\n",
    "                                   n_units_in_fc_hidden_layers=[2], # 10, 10],\n",
    "                                   classes=[1, 2],\n",
    "                                   kernels_size_and_stride=[[5, 2]], # , [4, 1]],\n",
    "                                   use_gpu=False)\n",
    "\n",
    "nnet.train(Xtrain, Ttrain, 50, learning_rate=0.01)"
   ]
  },
  {
   "cell_type": "code",
   "execution_count": 5,
   "metadata": {},
   "outputs": [
    {
     "data": {
      "image/png": "[encoded data removed]",
      "text/plain": [
       "<Figure size 432x288 with 1 Axes>"
      ]
     },
     "metadata": {
      "needs_background": "light"
     },
     "output_type": "display_data"
    }
   ],
   "source": [
    "plt.plot(nnet.get_error_trace())\n",
    "plt.xlabel('Epochs')\n",
    "plt.ylabel('MSE');"
   ]
  },
  {
   "cell_type": "code",
   "execution_count": 6,
   "metadata": {},
   "outputs": [
    {
     "name": "stdout",
     "output_type": "stream",
     "text": [
      "20 out of 20 test samples correctly classified.  Training took 1.216 seconds.\n"
     ]
    }
   ],
   "source": [
    "Yclasses, Y = nnet.use(Xtest)\n",
    "\n",
    "print(f'{np.sum(Ttest == Yclasses)} out of {Ttest.shape[0]} test samples correctly classified.', end='')\n",
    "print(f'  Training took {nnet.training_time:.3f} seconds.')"
   ]
  },
  {
   "cell_type": "code",
   "execution_count": 7,
   "metadata": {},
   "outputs": [],
   "source": [
    "def show_layer_output(nnet, X_sample, layer):\n",
    "    outputs = []\n",
    "    reg = nnet.nnet[layer * 2].register_forward_hook(\n",
    "        lambda self, i, o: outputs.append(o))\n",
    "    nnet.use(X_sample)\n",
    "    reg.remove()\n",
    "    output = outputs[0]\n",
    "\n",
    "    n_units = output.shape[1]\n",
    "    nplots = int(np.sqrt(n_units)) + 1\n",
    "    for unit in range(n_units):\n",
    "        plt.subplot(nplots, nplots, unit+1)\n",
    "        plt.imshow(output[0, unit, :, :].detach(),cmap='binary')\n",
    "        plt.axis('off')\n",
    "    return output\n",
    "\n",
    "def show_layer_weights(nnet, layer):\n",
    "    W = nnet.nnet[layer*2].weight.detach()\n",
    "    n_units = W.shape[0]\n",
    "    nplots = int(np.sqrt(n_units)) + 1\n",
    "    for unit in range(n_units):\n",
    "        plt.subplot(nplots, nplots, unit + 1)\n",
    "        plt.imshow(W[unit, 0, :, :], cmap='binary')\n",
    "        plt.axis('off')\n",
    "    return W"
   ]
  },
  {
   "cell_type": "code",
   "execution_count": 8,
   "metadata": {},
   "outputs": [
    {
     "data": {
      "text/plain": [
       "(-0.5, 19.5, 19.5, -0.5)"
      ]
     },
     "execution_count": 8,
     "metadata": {},
     "output_type": "execute_result"
    },
    {
     "data": {
      "image/png": "[encoded data removed]",
      "text/plain": [
       "<Figure size 432x288 with 1 Axes>"
      ]
     },
     "metadata": {
      "needs_background": "light"
     },
     "output_type": "display_data"
    }
   ],
   "source": [
    "X_sample = Xtest[0:1, :, :, :]\n",
    "plt.imshow(X_sample[0, 0, :, :], cmap='binary')\n",
    "plt.axis('off')"
   ]
  },
  {
   "cell_type": "code",
   "execution_count": 9,
   "metadata": {
    "scrolled": true
   },
   "outputs": [
    {
     "data": {
      "image/png": "[encoded data removed]",
      "text/plain": [
       "<Figure size 432x288 with 5 Axes>"
      ]
     },
     "metadata": {
      "needs_background": "light"
     },
     "output_type": "display_data"
    }
   ],
   "source": [
    "show_layer_output(nnet, X_sample, 0);"
   ]
  },
  {
   "cell_type": "code",
   "execution_count": 10,
   "metadata": {},
   "outputs": [
    {
     "data": {
      "image/png": "[encoded data removed]",
      "text/plain": [
       "<Figure size 432x288 with 5 Axes>"
      ]
     },
     "metadata": {
      "needs_background": "light"
     },
     "output_type": "display_data"
    }
   ],
   "source": [
    "show_layer_weights(nnet, 0);"
   ]
  },
  {
   "cell_type": "markdown",
   "metadata": {},
   "source": [
    "<h2>MNIST Digits</h2>\n",
    "\n",
    "Investigate the application of your code to the classification of MNIST digits, which you may download from this site. http://deeplearning.net/tutorial/gettingstarted.html"
   ]
  },
  {
   "cell_type": "code",
   "execution_count": 11,
   "metadata": {},
   "outputs": [],
   "source": [
    "# !wget http://deeplearning.net/data/mnist/mnist.pkl.gz\n",
    "\n",
    "# Load the dataset\n",
    "with gzip.open('mnist.pkl.gz', 'rb') as f:\n",
    "    train_set, valid_set, test_set = pickle.load(f, encoding='latin1')"
   ]
  },
  {
   "cell_type": "code",
   "execution_count": 12,
   "metadata": {},
   "outputs": [
    {
     "data": {
      "text/plain": [
       "((50000, 784), (50000,))"
      ]
     },
     "execution_count": 12,
     "metadata": {},
     "output_type": "execute_result"
    }
   ],
   "source": [
    "Xtrain = train_set[0]\n",
    "Ttrain = train_set[1]\n",
    "Xtrain.shape, Ttrain.shape"
   ]
  },
  {
   "cell_type": "code",
   "execution_count": 13,
   "metadata": {},
   "outputs": [
    {
     "data": {
      "text/plain": [
       "(28, 28)"
      ]
     },
     "execution_count": 13,
     "metadata": {},
     "output_type": "execute_result"
    }
   ],
   "source": [
    "a = Xtrain[0, :].reshape(28, 28)\n",
    "a.shape"
   ]
  },
  {
   "cell_type": "code",
   "execution_count": 14,
   "metadata": {},
   "outputs": [
    {
     "data": {
      "image/png": "[encoded data removed]",
      "text/plain": [
       "<Figure size 432x288 with 4 Axes>"
      ]
     },
     "metadata": {
      "needs_background": "light"
     },
     "output_type": "display_data"
    }
   ],
   "source": [
    "for i in range(4):\n",
    "    plt.subplot(2, 2, i + 1)\n",
    "    plt.imshow(Xtrain[i, :].reshape(28, 28), cmap='binary')\n",
    "    plt.title(Ttrain[i])\n",
    "    plt.axis('off');"
   ]
  },
  {
   "cell_type": "markdown",
   "metadata": {},
   "source": [
    "## CNN Classifier"
   ]
  },
  {
   "cell_type": "code",
   "execution_count": 15,
   "metadata": {},
   "outputs": [
    {
     "data": {
      "text/plain": [
       "((50000, 1, 28, 28),\n",
       " (50000, 1),\n",
       " (10000, 1, 28, 28),\n",
       " (10000, 1),\n",
       " (10000, 1, 28, 28),\n",
       " (10000, 1))"
      ]
     },
     "execution_count": 15,
     "metadata": {},
     "output_type": "execute_result"
    }
   ],
   "source": [
    "Xtrain = train_set[0].reshape(50000, 1, 28, 28)\n",
    "Ttrain = train_set[1].reshape(50000, 1)\n",
    "Xvalid = valid_set[0].reshape(10000, 1, 28, 28)\n",
    "Tvalid = valid_set[1].reshape(10000, 1)\n",
    "Xtest = test_set[0].reshape(10000, 1, 28, 28)\n",
    "Ttest = test_set[1].reshape(10000, 1)\n",
    "Xtrain.shape, Ttrain.shape, Xvalid.shape, Tvalid.shape, Xtest.shape, Ttest.shape"
   ]
  },
  {
   "cell_type": "code",
   "execution_count": 16,
   "metadata": {},
   "outputs": [],
   "source": [
    "def testModel(conv_layers, hidden_layers, kernels_size_and_stride, epochs, learning_rate=0.1, use_gpu=True):\n",
    "    nnet1 = NeuralNetwork_Convolutional(n_channels_in_image=Xtrain.shape[1],\n",
    "                                   image_size=Xtrain.shape[2],\n",
    "                                   n_units_in_conv_layers=conv_layers,\n",
    "                                   n_units_in_fc_hidden_layers=hidden_layers, \n",
    "                                   classes=[0, 1, 2, 3, 4, 5, 6, 7, 8, 9],\n",
    "                                   kernels_size_and_stride=kernels_size_and_stride,\n",
    "                                   use_gpu=use_gpu)\n",
    "    nnet1.train(Xtrain, Ttrain, epochs, learning_rate=learning_rate)\n",
    "    YclassesTrain, Ytrain = nnet1.use(Xtrain)\n",
    "    YclassesValid, Yvalid = nnet1.use(Xvalid)\n",
    "    YclassesTest, Ytest = nnet1.use(Xtest)\n",
    "    print(f'{np.sum(Ttrain == YclassesTrain)/Ttrain.shape[0]*100:.2f}% or {np.sum(Ttrain == YclassesTrain)} out of {Ttrain.shape[0]} training samples correctly classified.')\n",
    "    print(f'{np.sum(Tvalid == YclassesValid)/Tvalid.shape[0]*100:.2f}% or {np.sum(Tvalid == YclassesValid)} out of {Tvalid.shape[0]} validation samples correctly classified.')\n",
    "    print(f'{np.sum(Ttest == YclassesTest)/Ttest.shape[0]*100:.2f}% or {np.sum(Ttest == YclassesTest)} out of {Ttest.shape[0]} testing samples correctly classified.')"
   ]
  },
  {
   "cell_type": "markdown",
   "metadata": {},
   "source": [
    "<h3>Model 1 conv_layers=[10], fc_hidden_layers=[10], kernels_size_and_stride=[[5, 5]], epochs = 100</h3>"
   ]
  },
  {
   "cell_type": "code",
   "execution_count": 21,
   "metadata": {},
   "outputs": [
    {
     "name": "stdout",
     "output_type": "stream",
     "text": [
      "\n",
      "GPU is not available. Running on CPU.\n",
      "\n",
      "Epoch 10 error 0.61152\n",
      "Epoch 20 error 0.46129\n",
      "Epoch 30 error 0.38732\n",
      "Epoch 40 error 0.33704\n",
      "Epoch 50 error 0.30652\n",
      "Epoch 60 error 0.27948\n",
      "Epoch 70 error 0.26672\n",
      "Epoch 80 error 0.24467\n",
      "Epoch 90 error 0.23163\n",
      "Epoch 100 error 0.23009\n",
      "93.49% or 46746 out of 50000 training samples correctly classified.\n",
      "92.72% or 9272 out of 10000 validation samples correctly classified.\n",
      "91.77% or 9177 out of 10000 testing samples correctly classified.\n"
     ]
    }
   ],
   "source": [
    "testModel([10], [10], [[5, 5]], 100)"
   ]
  },
  {
   "cell_type": "markdown",
   "metadata": {},
   "source": [
    "<h3>Model 2 conv_layers=[10], fc_hidden_layers=[10], kernels_size_and_stride=[[5, 3]], epochs = 100</h3>"
   ]
  },
  {
   "cell_type": "code",
   "execution_count": 19,
   "metadata": {},
   "outputs": [
    {
     "name": "stdout",
     "output_type": "stream",
     "text": [
      "\n",
      "GPU is not available. Running on CPU.\n",
      "\n",
      "Epoch 10 error 0.76459\n",
      "Epoch 20 error 0.56048\n",
      "Epoch 30 error 0.45822\n",
      "Epoch 40 error 0.39175\n",
      "Epoch 50 error 0.34950\n",
      "Epoch 60 error 0.31874\n",
      "Epoch 70 error 0.29615\n",
      "Epoch 80 error 0.27928\n",
      "Epoch 90 error 0.26348\n",
      "Epoch 100 error 0.25301\n",
      "92.79% or 46394 out of 50000 training samples correctly classified.\n",
      "92.02% or 9202 out of 10000 validation samples correctly classified.\n",
      "91.55% or 9155 out of 10000 testing samples correctly classified.\n"
     ]
    }
   ],
   "source": [
    "testModel([10], [10], [[5, 3]], 100)"
   ]
  },
  {
   "cell_type": "markdown",
   "metadata": {},
   "source": [
    "<h3>Model 3 conv_layers=[10], fc_hidden_layers=[20], kernels_size_and_stride=[[5, 3]], epochs = 100</h3>"
   ]
  },
  {
   "cell_type": "code",
   "execution_count": 20,
   "metadata": {},
   "outputs": [
    {
     "name": "stdout",
     "output_type": "stream",
     "text": [
      "\n",
      "GPU is not available. Running on CPU.\n",
      "\n",
      "Epoch 10 error 0.54104\n",
      "Epoch 20 error 0.37822\n",
      "Epoch 30 error 0.29806\n",
      "Epoch 40 error 0.25040\n",
      "Epoch 50 error 0.22347\n",
      "Epoch 60 error 0.20252\n",
      "Epoch 70 error 0.18604\n",
      "Epoch 80 error 0.17434\n",
      "Epoch 90 error 0.16121\n",
      "Epoch 100 error 0.15606\n",
      "95.82% or 47912 out of 50000 training samples correctly classified.\n",
      "94.07% or 9407 out of 10000 validation samples correctly classified.\n",
      "93.32% or 9332 out of 10000 testing samples correctly classified.\n"
     ]
    }
   ],
   "source": [
    "testModel([10], [20], [[5, 3]], 100)"
   ]
  },
  {
   "cell_type": "markdown",
   "metadata": {},
   "source": [
    "<h3>Model 4 conv_layers=[10, 10], fc_hidden_layers=[20], kernels_size_and_stride=[[5, 3], [4, 2]], epochs = 200</h3>"
   ]
  },
  {
   "cell_type": "code",
   "execution_count": 21,
   "metadata": {},
   "outputs": [
    {
     "name": "stdout",
     "output_type": "stream",
     "text": [
      "\n",
      "GPU is not available. Running on CPU.\n",
      "\n",
      "Epoch 20 error 0.38405\n",
      "Epoch 40 error 0.23864\n",
      "Epoch 60 error 0.18163\n",
      "Epoch 80 error 0.15155\n",
      "Epoch 100 error 0.13665\n",
      "Epoch 120 error 0.13015\n",
      "Epoch 140 error 0.11798\n",
      "Epoch 160 error 0.10055\n",
      "Epoch 180 error 0.09713\n",
      "Epoch 200 error 0.10670\n",
      "96.62% or 48309 out of 50000 training samples correctly classified.\n",
      "94.07% or 9407 out of 10000 validation samples correctly classified.\n",
      "93.87% or 9387 out of 10000 testing samples correctly classified.\n"
     ]
    }
   ],
   "source": [
    "testModel([10, 10], [20], [[5, 3], [4, 2]], 200)"
   ]
  },
  {
   "cell_type": "markdown",
   "metadata": {},
   "source": [
    "<h3>Model 5 conv_layers=[10, 20], fc_hidden_layers=[20], kernels_size_and_stride=[[5, 3], [4, 2]], epochs = 200</h3>"
   ]
  },
  {
   "cell_type": "code",
   "execution_count": 22,
   "metadata": {},
   "outputs": [
    {
     "name": "stdout",
     "output_type": "stream",
     "text": [
      "\n",
      "GPU is not available. Running on CPU.\n",
      "\n",
      "Epoch 20 error 0.33973\n",
      "Epoch 40 error 0.21018\n",
      "Epoch 60 error 0.15715\n",
      "Epoch 80 error 0.13116\n",
      "Epoch 100 error 0.12564\n",
      "Epoch 120 error 0.09730\n",
      "Epoch 140 error 0.08414\n",
      "Epoch 160 error 0.09531\n",
      "Epoch 180 error 0.07120\n",
      "Epoch 200 error 0.07905\n",
      "97.68% or 48840 out of 50000 training samples correctly classified.\n",
      "93.92% or 9392 out of 10000 validation samples correctly classified.\n",
      "93.76% or 9376 out of 10000 testing samples correctly classified.\n"
     ]
    }
   ],
   "source": [
    "testModel([10, 20], [20], [[5, 3], [4, 2]], 200)"
   ]
  },
  {
   "cell_type": "markdown",
   "metadata": {},
   "source": [
    "<h3>Model 6 conv_layers=[10, 20, 30], fc_hidden_layers=[20], kernels_size_and_stride=[[5, 3], [4, 2], [3, 1]], epochs = 200</h3>"
   ]
  },
  {
   "cell_type": "code",
   "execution_count": 23,
   "metadata": {},
   "outputs": [
    {
     "name": "stdout",
     "output_type": "stream",
     "text": [
      "\n",
      "GPU is not available. Running on CPU.\n",
      "\n",
      "Epoch 20 error 0.49307\n",
      "Epoch 40 error 0.26076\n",
      "Epoch 60 error 0.17106\n",
      "Epoch 80 error 0.12782\n",
      "Epoch 100 error 0.10416\n",
      "Epoch 120 error 0.08806\n",
      "Epoch 140 error 0.08228\n",
      "Epoch 160 error 0.06727\n",
      "Epoch 180 error 0.09260\n",
      "Epoch 200 error 0.05774\n",
      "98.63% or 49313 out of 50000 training samples correctly classified.\n",
      "94.06% or 9406 out of 10000 validation samples correctly classified.\n",
      "93.52% or 9352 out of 10000 testing samples correctly classified.\n"
     ]
    }
   ],
   "source": [
    "testModel([10, 20, 30], [20], [[5, 3], [4, 2], [3, 1]], 200)"
   ]
  },
  {
   "cell_type": "markdown",
   "metadata": {},
   "source": [
    "<h3>Model 7 conv_layers=[10, 20, 30, 40], fc_hidden_layers=[20], kernels_size_and_stride=[[5, 3], [4, 2], [3, 1], [1, 1]], epochs = 200</h3>"
   ]
  },
  {
   "cell_type": "code",
   "execution_count": 24,
   "metadata": {},
   "outputs": [
    {
     "name": "stdout",
     "output_type": "stream",
     "text": [
      "\n",
      "GPU is not available. Running on CPU.\n",
      "\n",
      "Epoch 20 error 0.39970\n",
      "Epoch 40 error 0.20011\n",
      "Epoch 60 error 0.13291\n",
      "Epoch 80 error 0.10043\n",
      "Epoch 100 error 0.09438\n",
      "Epoch 120 error 0.06277\n",
      "Epoch 140 error 0.04507\n",
      "Epoch 160 error 0.03623\n",
      "Epoch 180 error 0.10348\n",
      "Epoch 200 error 0.04930\n",
      "98.78% or 49391 out of 50000 training samples correctly classified.\n",
      "95.02% or 9502 out of 10000 validation samples correctly classified.\n",
      "94.82% or 9482 out of 10000 testing samples correctly classified.\n"
     ]
    }
   ],
   "source": [
    "testModel([10, 20, 30, 40], [20], [[5, 3], [4, 2], [3, 1], [1, 1]], 200)"
   ]
  },
  {
   "cell_type": "markdown",
   "metadata": {},
   "source": [
    "<h3>Model 8 conv_layers=[10, 20, 30, 40], fc_hidden_layers=[20], kernels_size_and_stride=[[5, 3], [4, 2], [3, 1], [1, 2]], epochs = 300</h3>"
   ]
  },
  {
   "cell_type": "code",
   "execution_count": 25,
   "metadata": {},
   "outputs": [
    {
     "name": "stdout",
     "output_type": "stream",
     "text": [
      "\n",
      "GPU is not available. Running on CPU.\n",
      "\n",
      "Epoch 20 error 0.43636\n",
      "Epoch 40 error 0.22165\n",
      "Epoch 60 error 0.14856\n",
      "Epoch 80 error 0.11110\n",
      "Epoch 100 error 0.11395\n",
      "Epoch 120 error 0.07644\n",
      "Epoch 140 error 0.05833\n",
      "Epoch 160 error 0.11937\n",
      "Epoch 180 error 0.05984\n",
      "Epoch 200 error 0.04157\n",
      "99.06% or 49532 out of 50000 training samples correctly classified.\n",
      "94.27% or 9427 out of 10000 validation samples correctly classified.\n",
      "93.81% or 9381 out of 10000 testing samples correctly classified.\n"
     ]
    }
   ],
   "source": [
    "testModel([10, 20, 30, 40], [20], [[5, 3], [4, 2], [3, 1], [1, 2]], 200)"
   ]
  },
  {
   "cell_type": "markdown",
   "metadata": {},
   "source": [
    "<h3>Model 9 conv_layers=[10, 20, 30, 40], fc_hidden_layers=[20], kernels_size_and_stride=[[5, 3], [4, 2], [3, 2], [1, 2]], epochs = 200</h3>"
   ]
  },
  {
   "cell_type": "code",
   "execution_count": 26,
   "metadata": {},
   "outputs": [
    {
     "name": "stdout",
     "output_type": "stream",
     "text": [
      "\n",
      "GPU is not available. Running on CPU.\n",
      "\n",
      "Epoch 20 error 0.51659\n",
      "Epoch 40 error 0.27944\n",
      "Epoch 60 error 0.19233\n",
      "Epoch 80 error 0.15432\n",
      "Epoch 100 error 0.12091\n",
      "Epoch 120 error 0.20833\n",
      "Epoch 140 error 0.10589\n",
      "Epoch 160 error 0.07356\n",
      "Epoch 180 error 0.07615\n",
      "Epoch 200 error 0.05765\n",
      "98.59% or 49293 out of 50000 training samples correctly classified.\n",
      "93.45% or 9345 out of 10000 validation samples correctly classified.\n",
      "93.06% or 9306 out of 10000 testing samples correctly classified.\n"
     ]
    }
   ],
   "source": [
    "testModel([10, 20, 30, 40], [20], [[5, 3], [4, 2], [3, 2], [1, 2]], 200)"
   ]
  },
  {
   "cell_type": "markdown",
   "metadata": {},
   "source": [
    "<h3>Model 10 conv_layers=[10, 20, 30, 40], fc_hidden_layers=[10], kernels_size_and_stride=[[5, 3], [4, 2], [3, 2], [1, 2]], epochs = 200</h3>"
   ]
  },
  {
   "cell_type": "code",
   "execution_count": 27,
   "metadata": {},
   "outputs": [
    {
     "name": "stdout",
     "output_type": "stream",
     "text": [
      "\n",
      "GPU is not available. Running on CPU.\n",
      "\n",
      "Epoch 20 error 0.55951\n",
      "Epoch 40 error 0.28231\n",
      "Epoch 60 error 0.18529\n",
      "Epoch 80 error 0.13797\n",
      "Epoch 100 error 0.10863\n",
      "Epoch 120 error 0.09639\n",
      "Epoch 140 error 0.07315\n",
      "Epoch 160 error 0.13423\n",
      "Epoch 180 error 0.07818\n",
      "Epoch 200 error 0.05673\n",
      "98.76% or 49379 out of 50000 training samples correctly classified.\n",
      "93.34% or 9334 out of 10000 validation samples correctly classified.\n",
      "92.96% or 9296 out of 10000 testing samples correctly classified.\n"
     ]
    }
   ],
   "source": [
    "testModel([10, 20, 30, 40], [10], [[5, 3], [4, 2], [3, 2], [1, 2]], 200)"
   ]
  },
  {
   "cell_type": "markdown",
   "metadata": {},
   "source": [
    "## Discussion\n",
    "\n",
    "Starting from model 1 I changed at least one of the parameters each time I created a new model. The models mostly increase in success rate from model 1 to model 10. This is what the incremental changes to each model looks like this.\n",
    "\n",
    "1. conv = [10], hidden = [10], kernel stride = [[5, 5]], epochs 100\n",
    "2. kernel stride = [[5, 3]]\n",
    "3. hidden = [20]\n",
    "4. conv = [10, 10] kernel stride = [[5, 3], [4, 2]] epoch 200\n",
    "5. conv = [10, 20]\n",
    "6. conv = [10, 20, 30] kernel stride = [[5, 3], [4, 2], [3, 1]]\n",
    "7. conv = [10, 20, 30, 40] kernel stride = [[5, 3], [4, 2], [3, 1], [1, 1]]\n",
    "8. kernel stride = [[5, 3], [4, 2], [3, 1], [1, 2]]\n",
    "9. kernel stride = [[5, 3], [4, 2], [3, 2], [1, 2]]\n",
    "10. hidden = [10]\n",
    "\n",
    "Increasing the number of convolutional layers seemed to imporve the performance (testing, validation, and training success rate). Increasing the stride and epochs also seemed to improve the performance. The number of hidden layers seemed less important and increasing the number of hidden layers to more than one or the units to more than 10 didn't seem to affect the success rate. The training success rate was the easiest to manipulate (compared to validation and testing success rate) which could give a maximum result of 99%. The validation and testing data was more difficult to increase and seemed to respond less to the changes to the CNN structure, each giving a max success rate of 95%. One change that did seem to directly affect the validation and testing success rate was increasing the number of epochs. Overall it seems like a more complex CNN is better on this dataset."
   ]
  },
  {
   "cell_type": "markdown",
   "metadata": {},
   "source": [
    "## Extra Credit 1"
   ]
  },
  {
   "cell_type": "code",
   "execution_count": 20,
   "metadata": {},
   "outputs": [
    {
     "name": "stdout",
     "output_type": "stream",
     "text": [
      "Epoch 20 error 1.02210\n",
      "Epoch 40 error 0.40151\n",
      "Epoch 60 error 0.19175\n",
      "Epoch 80 error 0.11041\n",
      "Epoch 100 error 0.07138\n",
      "Epoch 120 error 0.04964\n",
      "Epoch 140 error 0.03669\n",
      "Epoch 160 error 0.02846\n",
      "Epoch 180 error 0.02292\n",
      "Epoch 200 error 0.01917\n"
     ]
    }
   ],
   "source": [
    "cnnet = NeuralNetwork_Convolutional(n_channels_in_image=Xtrain.shape[1],\n",
    "                                   image_size=Xtrain.shape[2],\n",
    "                                   n_units_in_conv_layers=[10, 20, 30, 40],\n",
    "                                   n_units_in_fc_hidden_layers=[10], \n",
    "                                   classes=[0, 1, 2, 3, 4, 5, 6, 7, 8, 9],\n",
    "                                   kernels_size_and_stride=[[5, 3], [4, 2], [3, 2], [1, 2]],\n",
    "                                   use_gpu=False)\n",
    "cnnet.train(Xtrain, Ttrain, 200, learning_rate=0.01)\n",
    "YclassesTrain, Ytrain = cnnet.use(Xtrain)\n",
    "YclassesValid, Yvalid = cnnet.use(Xvalid)\n",
    "YclassesTest, Ytest = cnnet.use(Xtest)"
   ]
  },
  {
   "cell_type": "code",
   "execution_count": 21,
   "metadata": {
    "scrolled": true
   },
   "outputs": [
    {
     "data": {
      "image/png": "[encoded data removed]",
      "text/plain": [
       "<Figure size 432x288 with 10 Axes>"
      ]
     },
     "metadata": {
      "needs_background": "light"
     },
     "output_type": "display_data"
    }
   ],
   "source": [
    "show_layer_output(cnnet, Xtrain, 0);"
   ]
  },
  {
   "cell_type": "code",
   "execution_count": 22,
   "metadata": {},
   "outputs": [
    {
     "data": {
      "image/png": "[encoded data removed]",
      "text/plain": [
       "<Figure size 432x288 with 10 Axes>"
      ]
     },
     "metadata": {
      "needs_background": "light"
     },
     "output_type": "display_data"
    }
   ],
   "source": [
    "show_layer_weights(cnnet, 0);"
   ]
  },
  {
   "cell_type": "markdown",
   "metadata": {},
   "source": [
    "### Discussion\n",
    "\n",
    "The output of the convolutional looks like its either capturing straight lines (the top of the 5 or the bottom of the 5) or curved lines (the rightside/bottom curve of the 5). The layer weights seemed to be focused on the bottom area (the line on the bottom of the five), the right middle area (the rightside/bottom curve of the 5), or the top area (the line on the top of the five). It looks like the layer weights focus on one or two areas in the picture and if a line appears in that area it is accentuated in the output images of the convalutional layer."
   ]
  },
  {
   "cell_type": "markdown",
   "metadata": {},
   "source": [
    "## Extra Credit 2"
   ]
  },
  {
   "cell_type": "code",
   "execution_count": 23,
   "metadata": {},
   "outputs": [
    {
     "name": "stdout",
     "output_type": "stream",
     "text": [
      "Epoch 20 error 0.87895\n",
      "Epoch 40 error 0.33125\n",
      "Epoch 60 error 0.15939\n",
      "Epoch 80 error 0.09495\n",
      "Epoch 100 error 0.06356\n",
      "Epoch 120 error 0.04603\n",
      "Epoch 140 error 0.03497\n",
      "Epoch 160 error 0.02775\n",
      "Epoch 180 error 0.02297\n",
      "Epoch 200 error 0.01948\n"
     ]
    },
    {
     "data": {
      "text/plain": [
       "208.53940796852112"
      ]
     },
     "execution_count": 23,
     "metadata": {},
     "output_type": "execute_result"
    }
   ],
   "source": [
    "cnnet_non_gpu = NeuralNetwork_Convolutional(n_channels_in_image=Xtrain.shape[1],\n",
    "                                   image_size=Xtrain.shape[2],\n",
    "                                   n_units_in_conv_layers=[10, 20, 30, 40],\n",
    "                                   n_units_in_fc_hidden_layers=[10], \n",
    "                                   classes=[0, 1, 2, 3, 4, 5, 6, 7, 8, 9],\n",
    "                                   kernels_size_and_stride=[[5, 3], [4, 2], [3, 2], [1, 2]],\n",
    "                                   use_gpu=False)\n",
    "cnnet_non_gpu.train(Xtrain, Ttrain, 200, learning_rate=0.01)\n",
    "cnnet_non_gpu.training_time"
   ]
  },
  {
   "cell_type": "code",
   "execution_count": 24,
   "metadata": {},
   "outputs": [
    {
     "name": "stdout",
     "output_type": "stream",
     "text": [
      "Epoch 20 error 0.92195\n",
      "Epoch 40 error 0.35166\n",
      "Epoch 60 error 0.16741\n",
      "Epoch 80 error 0.10402\n",
      "Epoch 100 error 0.07130\n",
      "Epoch 120 error 0.05246\n",
      "Epoch 140 error 0.04040\n",
      "Epoch 160 error 0.03226\n",
      "Epoch 180 error 0.02632\n",
      "Epoch 200 error 0.02180\n"
     ]
    },
    {
     "data": {
      "text/plain": [
       "26.813615560531616"
      ]
     },
     "execution_count": 24,
     "metadata": {},
     "output_type": "execute_result"
    }
   ],
   "source": [
    "cnnet_gpu = NeuralNetwork_Convolutional(n_channels_in_image=Xtrain.shape[1],\n",
    "                                   image_size=Xtrain.shape[2],\n",
    "                                   n_units_in_conv_layers=[10, 20, 30, 40],\n",
    "                                   n_units_in_fc_hidden_layers=[10], \n",
    "                                   classes=[0, 1, 2, 3, 4, 5, 6, 7, 8, 9],\n",
    "                                   kernels_size_and_stride=[[5, 3], [4, 2], [3, 2], [1, 2]],\n",
    "                                   use_gpu=True)\n",
    "cnnet_gpu.train(Xtrain, Ttrain, 200, learning_rate=0.01)\n",
    "cnnet_gpu.training_time"
   ]
  },
  {
   "cell_type": "markdown",
   "metadata": {},
   "source": [
    "### Discussion\n",
    "\n",
    "Without the gpu the time was ~208 seconds and with the gpu it was ~26 seconds. Running a convalutional layers seems really computationally expensive especially when the kernel size and stride are small. This is likely because the CNN has to look at more sub-areas of the picture which requires alot of matrix calculations. So running matrix calculations on a gpu really speeds up the training of a CNN."
   ]
  },
  {
   "cell_type": "code",
   "execution_count": 25,
   "metadata": {},
   "outputs": [
    {
     "name": "stdout",
     "output_type": "stream",
     "text": [
      "\n",
      "======================= Code Execution =======================\n",
      "\n",
      "Extracting python code from notebook named 'Armstrong-A3.ipynb' and storing in notebookcode.py\n",
      "Removing all statements that are not function or class defs or import statements.\n",
      "\n",
      "Testing if your NeuralNetwork_Convolutional can learn to classify a small \n",
      "subset of hand_drawn 0, 1, and 2 digits.\n",
      "\n",
      "import numpy as np\n",
      "import pickle, gzip\n",
      "\n",
      "# Load the dataset\n",
      "with gzip.open('mnist.pkl.gz', 'rb') as f:\n",
      "    train_set, valid_set, test_set = pickle.load(f, encoding='latin1')\n",
      "Xtest = test_set[0]\n",
      "traini = [3,  10,  13,  25,  28,  55,  69,  71, 101, 126, 2,   5,  14,  29,  31,  37,  39,  40,  46,  57, 1,  35,  38,  43,  47,  72,  77,  82, 106, 119]\n",
      "testi = [136, 148, 157, 183, 188, 192, 194, 215, 246, 269,  74,  89,  94, 96, 107, 135, 137, 143, 145, 154, 147, 149, 172, 174, 186, 199, 208, 221, 222, 225]\n",
      "Xtrain = test_set[0][traini, :].reshape(-1, 1, 28, 28)\n",
      "Ttrain = test_set[1][traini].reshape(-1, 1)\n",
      "Xtest = test_set[0][testi, :].reshape(-1, 1, 28, 28)\n",
      "Ttest = test_set[1][testi].reshape(-1, 1)\n",
      "\n",
      "torch.random.manual_seed(42)\n",
      "\n",
      "nnet = NeuralNetwork_Convolutional(n_channels_in_image=Xtrain.shape[1],\n",
      "                                   image_size=Xtrain.shape[2],\n",
      "                                   n_units_in_conv_layers=[5, 5],\n",
      "                                   kernels_size_and_stride=[[5, 3], [4, 2]],\n",
      "                                   n_units_in_fc_hidden_layers=[10],\n",
      "                                   classes=[0, 1, 2],\n",
      "                                   use_gpu=False)\n",
      "\n",
      "nnet.train(Xtrain, Ttrain, 20, learning_rate=0.01)\n",
      "Yclasses, Y = nnet.use(Xtest)\n",
      "n_correct = (Yclasses == Ttest).sum()\n",
      "print(f'{n_correct} out of {Ttest.shape[0]} samples, or {n_correct/Ttest.shape[0]*100:.2f} percent.')\n",
      "\n",
      "Epoch 2 error 1.03157\n",
      "Epoch 4 error 0.87973\n",
      "Epoch 6 error 0.69274\n",
      "Epoch 8 error 0.51123\n",
      "Epoch 10 error 0.37162\n",
      "Epoch 12 error 0.27101\n",
      "Epoch 14 error 0.20077\n",
      "Epoch 16 error 0.15003\n",
      "Epoch 18 error 0.11277\n",
      "Epoch 20 error 0.08578\n",
      "27 out of 30 samples, or 90.00 percent.\n",
      "\n",
      "--- 80/80 points. Returned correct value of 27.\n",
      "\n",
      "Testing \n",
      "errors = nnet.get_error_trace()\n",
      "\n",
      "\n",
      "--- 10/10 points. Returned correct number of errors in error_trace.\n",
      "\n",
      "======================================================================\n",
      "cs545 Execution Grade is 90 / 90\n",
      "======================================================================\n",
      "\n",
      " __ / 10 You show results for at least 10 different runs having various\n",
      "values for number of layers, units, and epochs for modeling MNIST data.\n",
      "You must show percent correct for train, validation and test sets for each run.\n",
      "Discuss your results. \n",
      "\n",
      "======================================================================\n",
      "cs545 FINAL GRADE is  _  / 100\n",
      "======================================================================\n",
      "\n",
      "Extra Credit:\n",
      "1. For one of your runs, display the output images of your convolutional layers \n",
      "   and the weights for those layers.  Discuss what you see.  Describe why the\n",
      "   displayed weight patterns result in the output images of the first convolutional\n",
      "   layer.\n",
      "2. Make at least one of your runs on a workstation with a GPU and run with use_gpu=True.\n",
      "   Also run it with use_gpu=False.  Discuss the differences in training times.\n",
      "\n",
      "cs545 EXTRA CREDIT is 0 / 2\n"
     ]
    }
   ],
   "source": [
    "# !rm A4grader.zip\n",
    "# !rm A4grader.py\n",
    "# !wget https://www.cs.colostate.edu/~anderson/cs545/notebooks/A4grader.zip\n",
    "# !unzip A4grader.zip\n",
    "# %run -i A4grader.py"
   ]
  },
  {
   "cell_type": "code",
   "execution_count": null,
   "metadata": {},
   "outputs": [],
   "source": []
  }
 ],
 "metadata": {
  "kernelspec": {
   "display_name": "Python 3",
   "language": "python",
   "name": "python3"
  },
  "language_info": {
   "codemirror_mode": {
    "name": "ipython",
    "version": 3
   },
   "file_extension": ".py",
   "mimetype": "text/x-python",
   "name": "python",
   "nbconvert_exporter": "python",
   "pygments_lexer": "ipython3",
   "version": "3.7.3"
  }
 },
 "nbformat": 4,
 "nbformat_minor": 2
}
